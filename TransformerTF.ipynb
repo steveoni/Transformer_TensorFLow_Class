{
  "nbformat": 4,
  "nbformat_minor": 0,
  "metadata": {
    "colab": {
      "name": "TransformerTF",
      "provenance": [],
      "collapsed_sections": [
        "_nKr6fEvwCWv"
      ],
      "toc_visible": true,
      "mount_file_id": "1CHUfZKHhA1JzgzNMrM-yHKCgnJgvQfgS",
      "authorship_tag": "ABX9TyMNU5VGfBvCX8LRI/kL0az7",
      "include_colab_link": true
    },
    "kernelspec": {
      "name": "python3",
      "display_name": "Python 3"
    },
    "accelerator": "GPU"
  },
  "cells": [
    {
      "cell_type": "markdown",
      "metadata": {
        "id": "view-in-github",
        "colab_type": "text"
      },
      "source": [
        "<a href=\"https://colab.research.google.com/github/steveoni/Transformer_TensorFLow_Class/blob/master/TransformerTF.ipynb\" target=\"_parent\"><img src=\"https://colab.research.google.com/assets/colab-badge.svg\" alt=\"Open In Colab\"/></a>"
      ]
    },
    {
      "cell_type": "markdown",
      "metadata": {
        "id": "UGsjsXSOgdvK",
        "colab_type": "text"
      },
      "source": [
        "## Building A Neural Machine Translation (Considering the Diatric) Using Custom Data.\n",
        "\n"
      ]
    },
    {
      "cell_type": "markdown",
      "metadata": {
        "id": "akXZIHlQiNg9",
        "colab_type": "text"
      },
      "source": [
        "The notebook is an extract from [Tensorflow Blog](https://www.tensorflow.org/tutorials/text/transformer). Showing the work flow from Shaping the dataset, creating the model and then saving it."
      ]
    },
    {
      "cell_type": "code",
      "metadata": {
        "id": "KJEsCNOxcetO",
        "colab_type": "code",
        "colab": {}
      },
      "source": [
        "import tensorflow_datasets as tfds\n",
        "import tensorflow as tf\n",
        " \n",
        "import time\n",
        "import numpy as np\n",
        "import matplotlib.pyplot as plt"
      ],
      "execution_count": null,
      "outputs": []
    },
    {
      "cell_type": "code",
      "metadata": {
        "id": "x3cT6nFfrBJx",
        "colab_type": "code",
        "colab": {
          "base_uri": "https://localhost:8080/",
          "height": 34
        },
        "outputId": "b9d3b6a6-9df6-4088-e865-06f77574e291"
      },
      "source": [
        "print(\"Num GPUs Available: \", len(tf.config.experimental.list_physical_devices('GPU')))"
      ],
      "execution_count": null,
      "outputs": [
        {
          "output_type": "stream",
          "text": [
            "Num GPUs Available:  1\n"
          ],
          "name": "stdout"
        }
      ]
    },
    {
      "cell_type": "code",
      "metadata": {
        "id": "QIIC1izxdnLr",
        "colab_type": "code",
        "colab": {}
      },
      "source": [
        "\n",
        "import matplotlib.pyplot as plt\n",
        "import matplotlib.ticker as ticker\n",
        "from sklearn.model_selection import train_test_split\n",
        "\n",
        "import unicodedata\n",
        "import re\n",
        "import numpy as np\n",
        "import os\n",
        "import io\n",
        "import time"
      ],
      "execution_count": null,
      "outputs": []
    },
    {
      "cell_type": "code",
      "metadata": {
        "id": "eYZEileSvQnU",
        "colab_type": "code",
        "colab": {}
      },
      "source": [
        "import pandas as pd"
      ],
      "execution_count": null,
      "outputs": []
    },
    {
      "cell_type": "markdown",
      "metadata": {
        "id": "5bOQNV4vjZv3",
        "colab_type": "text"
      },
      "source": [
        "The Tensorflow blog post contain the full details of how the model works.\n",
        "\n",
        "Our aim will be to shape our dataset in a way we can train it with the model. And here are the basic steps needed:\n",
        "\n",
        "1. Tokenization\n",
        "2. Padding\n",
        "2. Creating word vocab to enable index-to-word and word-to-index\n",
        "4. Batching the dataset"
      ]
    },
    {
      "cell_type": "code",
      "metadata": {
        "id": "uTTtm0vpk2xl",
        "colab_type": "code",
        "colab": {}
      },
      "source": [
        "data = pd.read_csv(\"drive/My Drive/cros_ling/clean_langdata.csv\")"
      ],
      "execution_count": null,
      "outputs": []
    },
    {
      "cell_type": "code",
      "metadata": {
        "id": "ai7INJwyk2x2",
        "colab_type": "code",
        "colab": {}
      },
      "source": [
        "zdata = list(zip(data[\"eng\"],data[\"yor\"])) ##zipped the two language together"
      ],
      "execution_count": null,
      "outputs": []
    },
    {
      "cell_type": "code",
      "metadata": {
        "id": "-s2HYlDAvn6u",
        "colab_type": "code",
        "colab": {}
      },
      "source": [
        "def add_sos_eos(text):\n",
        "\n",
        "  return \"<start> \" + text + \" <end>\" "
      ],
      "execution_count": null,
      "outputs": []
    },
    {
      "cell_type": "code",
      "metadata": {
        "id": "HIkXUjtUwSgO",
        "colab_type": "code",
        "colab": {}
      },
      "source": [
        "new_zdata = list(map(lambda x: (add_sos_eos(x[0]), add_sos_eos(x[1])),zdata))"
      ],
      "execution_count": null,
      "outputs": []
    },
    {
      "cell_type": "code",
      "metadata": {
        "id": "9qj3V4HAwkGw",
        "colab_type": "code",
        "colab": {
          "base_uri": "https://localhost:8080/",
          "height": 52
        },
        "outputId": "8d236358-41e4-4814-ad33-8ab64e320573"
      },
      "source": [
        "new_zdata[1]"
      ],
      "execution_count": null,
      "outputs": [
        {
          "output_type": "execute_result",
          "data": {
            "text/plain": [
              "('<start> become for me a rock fortress where i can always enter give the command to save me for you are my crag and my stronghold <end>',\n",
              " '<start> di àpáta ààbò fún mi kí n lè máa ríbi wò nígbà gbogbo pàṣẹ láti gbà mí là nítorí ìwọ ni àpáta mi àti ibi ààbò mi <end>')"
            ]
          },
          "metadata": {
            "tags": []
          },
          "execution_count": 9
        }
      ]
    },
    {
      "cell_type": "markdown",
      "metadata": {
        "id": "Wg_S9dv-kvEl",
        "colab_type": "text"
      },
      "source": [
        "## Tokenization and Padding"
      ]
    },
    {
      "cell_type": "code",
      "metadata": {
        "id": "7jrwm8B3wp4T",
        "colab_type": "code",
        "colab": {}
      },
      "source": [
        "def tokenize(lang):\n",
        "  lang_tokenizer = tf.keras.preprocessing.text.Tokenizer(\n",
        "      filters='')\n",
        "  lang_tokenizer.fit_on_texts(lang)\n",
        "\n",
        "  tensor = lang_tokenizer.texts_to_sequences(lang)\n",
        "\n",
        "  tensor = tf.keras.preprocessing.sequence.pad_sequences(tensor,\n",
        "                                                         padding='post')\n",
        "\n",
        "  return tensor, lang_tokenizer"
      ],
      "execution_count": null,
      "outputs": []
    },
    {
      "cell_type": "code",
      "metadata": {
        "id": "0_tsiBuBxBGa",
        "colab_type": "code",
        "colab": {}
      },
      "source": [
        "def load_dataset(zdata):\n",
        "\n",
        "  input_data = []\n",
        "  target_data = []\n",
        "\n",
        "  for data in zdata:\n",
        "    input_data.append(data[0])\n",
        "    target_data.append(data[1])\n",
        "\n",
        "  input_tensor, inp_lang_tokenizer = tokenize(input_data)\n",
        "  target_tensor, targ_lang_tokenizer = tokenize(target_data)\n",
        "\n",
        "  return input_tensor, target_tensor, inp_lang_tokenizer, targ_lang_tokenizer\n"
      ],
      "execution_count": null,
      "outputs": []
    },
    {
      "cell_type": "code",
      "metadata": {
        "id": "9iybXvvQykmh",
        "colab_type": "code",
        "colab": {}
      },
      "source": [
        "input_tensor, target_tensor, inp_lang, targ_lang = load_dataset(new_zdata)"
      ],
      "execution_count": null,
      "outputs": []
    },
    {
      "cell_type": "code",
      "metadata": {
        "id": "G-l26gCkyzs3",
        "colab_type": "code",
        "colab": {}
      },
      "source": [
        "max_length_targ, max_length_inp = target_tensor.shape[1], input_tensor.shape[1]"
      ],
      "execution_count": null,
      "outputs": []
    },
    {
      "cell_type": "code",
      "metadata": {
        "id": "yZSM8aOVy232",
        "colab_type": "code",
        "colab": {
          "base_uri": "https://localhost:8080/",
          "height": 34
        },
        "outputId": "bf25e98b-b47b-4f81-aa24-1a1e842e3d09"
      },
      "source": [
        "max_length_inp, max_length_targ"
      ],
      "execution_count": null,
      "outputs": [
        {
          "output_type": "execute_result",
          "data": {
            "text/plain": [
              "(82, 88)"
            ]
          },
          "metadata": {
            "tags": []
          },
          "execution_count": 14
        }
      ]
    },
    {
      "cell_type": "code",
      "metadata": {
        "id": "YnzZEKU4zFHc",
        "colab_type": "code",
        "colab": {
          "base_uri": "https://localhost:8080/",
          "height": 173
        },
        "outputId": "93dba3ab-03cb-4092-a363-84d40fb15f41"
      },
      "source": [
        "target_tensor[0]"
      ],
      "execution_count": null,
      "outputs": [
        {
          "output_type": "execute_result",
          "data": {
            "text/plain": [
              "array([   1,   11,  149,   29,  204,   33,    4,  417,   21,   40,  101,\n",
              "         12,   98,  111,    4,   10,   22,  698,    9,  335,    4, 1306,\n",
              "         89,    4,  417,   21,   40,   34,   24,  521,   16,   22,  316,\n",
              "         39,  417,   21,   45,  288,  497,  259,   20,   15,   20,   11,\n",
              "         26,   25,  188,  407,  784,   41,    9,   22,   93,    8,   86,\n",
              "        102,    8, 1494,    2,    0,    0,    0,    0,    0,    0,    0,\n",
              "          0,    0,    0,    0,    0,    0,    0,    0,    0,    0,    0,\n",
              "          0,    0,    0,    0,    0,    0,    0,    0,    0,    0,    0],\n",
              "      dtype=int32)"
            ]
          },
          "metadata": {
            "tags": []
          },
          "execution_count": 15
        }
      ]
    },
    {
      "cell_type": "code",
      "metadata": {
        "id": "j7mqZ3JwzMTo",
        "colab_type": "code",
        "colab": {
          "base_uri": "https://localhost:8080/",
          "height": 34
        },
        "outputId": "ea02a79d-7d3a-4681-c832-51336ee608e8"
      },
      "source": [
        "# Creating training and validation sets using an 80-20 split\n",
        "input_tensor_train, input_tensor_val, target_tensor_train, target_tensor_val = train_test_split(input_tensor, target_tensor, test_size=0.2)\n",
        "\n",
        "# Show length\n",
        "print(len(input_tensor_train), len(target_tensor_train), len(input_tensor_val), len(target_tensor_val))\n"
      ],
      "execution_count": null,
      "outputs": [
        {
          "output_type": "stream",
          "text": [
            "16058 16058 4015 4015\n"
          ],
          "name": "stdout"
        }
      ]
    },
    {
      "cell_type": "code",
      "metadata": {
        "id": "bHiFcVXszdTn",
        "colab_type": "code",
        "colab": {}
      },
      "source": [
        "def convert(lang, tensor):\n",
        "  for t in tensor:\n",
        "    if t!=0:\n",
        "      print(\"%d ----> %s\" % (t, lang.index_word[t]))\n"
      ],
      "execution_count": null,
      "outputs": []
    },
    {
      "cell_type": "code",
      "metadata": {
        "id": "HcXjkRQYzxFB",
        "colab_type": "code",
        "colab": {
          "base_uri": "https://localhost:8080/",
          "height": 1000
        },
        "outputId": "b70c4ef3-70a0-4b3f-8525-710670109093"
      },
      "source": [
        "print (\"Input Language; index to word mapping\")\n",
        "convert(inp_lang, input_tensor_train[0])\n",
        "print ()\n",
        "print (\"Target Language; index to word mapping\")\n",
        "convert(targ_lang, target_tensor_train[0])\n"
      ],
      "execution_count": null,
      "outputs": [
        {
          "output_type": "stream",
          "text": [
            "Input Language; index to word mapping\n",
            "3 ----> <start>\n",
            "2 ----> and\n",
            "524 ----> during\n",
            "1 ----> the\n",
            "142 ----> days\n",
            "5 ----> of\n",
            "2708 ----> zerubʹbabel\n",
            "2 ----> and\n",
            "524 ----> during\n",
            "1 ----> the\n",
            "142 ----> days\n",
            "5 ----> of\n",
            "4274 ----> nehemiʹah\n",
            "29 ----> all\n",
            "70 ----> israel\n",
            "205 ----> gave\n",
            "2710 ----> portions\n",
            "6 ----> to\n",
            "1 ----> the\n",
            "2107 ----> singers\n",
            "2 ----> and\n",
            "1 ----> the\n",
            "2993 ----> gatekeepers\n",
            "213 ----> according\n",
            "6 ----> to\n",
            "1 ----> the\n",
            "2718 ----> daily\n",
            "740 ----> need\n",
            "20 ----> they\n",
            "95 ----> also\n",
            "211 ----> set\n",
            "1196 ----> aside\n",
            "1 ----> the\n",
            "932 ----> portion\n",
            "13 ----> for\n",
            "1 ----> the\n",
            "696 ----> levites\n",
            "2 ----> and\n",
            "1 ----> the\n",
            "696 ----> levites\n",
            "211 ----> set\n",
            "1196 ----> aside\n",
            "1 ----> the\n",
            "932 ----> portion\n",
            "13 ----> for\n",
            "1 ----> the\n",
            "775 ----> descendants\n",
            "5 ----> of\n",
            "377 ----> aaron\n",
            "4 ----> <end>\n",
            "\n",
            "Target Language; index to word mapping\n",
            "1 ----> <start>\n",
            "61 ----> nígbà\n",
            "112 ----> ayé\n",
            "1949 ----> serubábélì\n",
            "23 ----> àti\n",
            "61 ----> nígbà\n",
            "112 ----> ayé\n",
            "2737 ----> nehemáyà\n",
            "32 ----> gbogbo\n",
            "76 ----> ísírélì\n",
            "7 ----> ń\n",
            "43 ----> mú\n",
            "224 ----> oúnjẹ\n",
            "29 ----> wá\n",
            "17 ----> fún\n",
            "3 ----> àwọn\n",
            "1517 ----> akọrin\n",
            "23 ----> àti\n",
            "3 ----> àwọn\n",
            "2001 ----> aṣóbodè\n",
            "39 ----> bí\n",
            "83 ----> ọjó\n",
            "580 ----> kòòkan\n",
            "24 ----> bá\n",
            "15 ----> ṣe\n",
            "106 ----> gbà\n",
            "10 ----> wón\n",
            "126 ----> tún\n",
            "286 ----> ya\n",
            "224 ----> oúnjẹ\n",
            "923 ----> sótò\n",
            "4 ----> tí\n",
            "10 ----> wón\n",
            "7 ----> ń\n",
            "17 ----> fún\n",
            "3 ----> àwọn\n",
            "36 ----> ọmọ\n",
            "513 ----> léfì\n",
            "3 ----> àwọn\n",
            "36 ----> ọmọ\n",
            "513 ----> léfì\n",
            "5 ----> sì\n",
            "7 ----> ń\n",
            "286 ----> ya\n",
            "295 ----> apá\n",
            "56 ----> kan\n",
            "923 ----> sótò\n",
            "17 ----> fún\n",
            "3 ----> àwọn\n",
            "644 ----> àtọmọdómọ\n",
            "368 ----> áárónì\n",
            "2 ----> <end>\n"
          ],
          "name": "stdout"
        }
      ]
    },
    {
      "cell_type": "code",
      "metadata": {
        "id": "xyEjFgFF0Dta",
        "colab_type": "code",
        "colab": {}
      },
      "source": [
        "BUFFER_SIZE = len(input_tensor_train)\n",
        "BATCH_SIZE = 100\n",
        "steps_per_epoch = len(input_tensor_train)//BATCH_SIZE\n",
        "embedding_dim = 256\n",
        "units = 1024\n",
        "vocab_inp_size = len(inp_lang.word_index)+1\n",
        "vocab_tar_size = len(targ_lang.word_index)+1\n",
        "\n",
        "dataset = tf.data.Dataset.from_tensor_slices((input_tensor_train, target_tensor_train)).shuffle(BUFFER_SIZE)\n",
        "train_loader = dataset.batch(BATCH_SIZE, drop_remainder=True)\n",
        "\n",
        "val_dataset = tf.data.Dataset.from_tensor_slices((input_tensor_val,target_tensor_val)).shuffle(BUFFER_SIZE)\n",
        "val_loader = val_dataset.batch(BATCH_SIZE, drop_remainder=True)\n"
      ],
      "execution_count": null,
      "outputs": []
    },
    {
      "cell_type": "code",
      "metadata": {
        "id": "_nHiiIDCDkNX",
        "colab_type": "code",
        "colab": {
          "base_uri": "https://localhost:8080/",
          "height": 34
        },
        "outputId": "e29303cb-7175-46a1-8cbf-df8238f84433"
      },
      "source": [
        "example_input_batch, example_target_batch = next(iter(train_loader))\n",
        "example_input_batch.shape, example_target_batch.shape"
      ],
      "execution_count": null,
      "outputs": [
        {
          "output_type": "execute_result",
          "data": {
            "text/plain": [
              "(TensorShape([100, 82]), TensorShape([100, 88]))"
            ]
          },
          "metadata": {
            "tags": []
          },
          "execution_count": 20
        }
      ]
    },
    {
      "cell_type": "code",
      "metadata": {
        "id": "c5IqVkfHHhlA",
        "colab_type": "code",
        "colab": {}
      },
      "source": [
        ""
      ],
      "execution_count": null,
      "outputs": []
    },
    {
      "cell_type": "markdown",
      "metadata": {
        "id": "_nKr6fEvwCWv",
        "colab_type": "text"
      },
      "source": [
        "## Positional Encoding"
      ]
    },
    {
      "cell_type": "code",
      "metadata": {
        "id": "oS97hDwwwBhS",
        "colab_type": "code",
        "colab": {}
      },
      "source": [
        "def get_angles(pos, i, d_model):\n",
        "  angle_rates = 1 / np.power(10000, (2 * (i//2)) / np.float32(d_model))\n",
        "  return pos * angle_rates"
      ],
      "execution_count": null,
      "outputs": []
    },
    {
      "cell_type": "code",
      "metadata": {
        "id": "6vYjP6WwwJPA",
        "colab_type": "code",
        "colab": {}
      },
      "source": [
        "def positional_encoding(position, d_model):\n",
        "  angle_rads = get_angles(np.arange(position)[:, np.newaxis],\n",
        "                          np.arange(d_model)[np.newaxis, :],\n",
        "                          d_model)\n",
        "  \n",
        "  # apply sin to even indices in the array; 2i\n",
        "  angle_rads[:, 0::2] = np.sin(angle_rads[:, 0::2])\n",
        "  \n",
        "  # apply cos to odd indices in the array; 2i+1\n",
        "  angle_rads[:, 1::2] = np.cos(angle_rads[:, 1::2])\n",
        "    \n",
        "  pos_encoding = angle_rads[np.newaxis, ...]\n",
        "    \n",
        "  return tf.cast(pos_encoding, dtype=tf.float32)"
      ],
      "execution_count": null,
      "outputs": []
    },
    {
      "cell_type": "code",
      "metadata": {
        "id": "vy7DZy3QwPW3",
        "colab_type": "code",
        "colab": {
          "base_uri": "https://localhost:8080/",
          "height": 300
        },
        "outputId": "1811ae65-50d3-425f-c9e6-1a131c56e3a7"
      },
      "source": [
        "pos_encoding = positional_encoding(50, 512)\n",
        "print (pos_encoding.shape)\n",
        "\n",
        "plt.pcolormesh(pos_encoding[0], cmap='RdBu')\n",
        "plt.xlabel('Depth')\n",
        "plt.xlim((0, 512))\n",
        "plt.ylabel('Position')\n",
        "plt.colorbar()\n",
        "plt.show()\n"
      ],
      "execution_count": null,
      "outputs": [
        {
          "output_type": "stream",
          "text": [
            "(1, 50, 512)\n"
          ],
          "name": "stdout"
        },
        {
          "output_type": "display_data",
          "data": {
            "image/png": "[encoded data removed]",
            "text/plain": [
              "<Figure size 432x288 with 2 Axes>"
            ]
          },
          "metadata": {
            "tags": [],
            "needs_background": "light"
          }
        }
      ]
    },
    {
      "cell_type": "code",
      "metadata": {
        "id": "kk2BrxlxwUHm",
        "colab_type": "code",
        "colab": {}
      },
      "source": [
        "def create_padding_mask(seq):\n",
        "  seq = tf.cast(tf.math.equal(seq, 0), tf.float32)\n",
        "  \n",
        "  # add extra dimensions to add the padding\n",
        "  # to the attention logits.\n",
        "  return seq[:, tf.newaxis, tf.newaxis, :]  # (batch_size, 1, 1, seq_len)\n"
      ],
      "execution_count": null,
      "outputs": []
    },
    {
      "cell_type": "code",
      "metadata": {
        "id": "cDetdSx_wcPQ",
        "colab_type": "code",
        "colab": {}
      },
      "source": [
        "def create_look_ahead_mask(size):\n",
        "  mask = 1 - tf.linalg.band_part(tf.ones((size, size)), -1, 0)\n",
        "  return mask  # (seq_len, seq_len)"
      ],
      "execution_count": null,
      "outputs": []
    },
    {
      "cell_type": "code",
      "metadata": {
        "id": "DfWcOPqywkuy",
        "colab_type": "code",
        "colab": {
          "base_uri": "https://localhost:8080/",
          "height": 86
        },
        "outputId": "4515d422-81dc-44cf-e274-cfa40f7dfff3"
      },
      "source": [
        "x = tf.random.uniform((1, 3))\n",
        "temp = create_look_ahead_mask(x.shape[1])\n",
        "temp"
      ],
      "execution_count": null,
      "outputs": [
        {
          "output_type": "execute_result",
          "data": {
            "text/plain": [
              "<tf.Tensor: shape=(3, 3), dtype=float32, numpy=\n",
              "array([[0., 1., 1.],\n",
              "       [0., 0., 1.],\n",
              "       [0., 0., 0.]], dtype=float32)>"
            ]
          },
          "metadata": {
            "tags": []
          },
          "execution_count": 26
        }
      ]
    },
    {
      "cell_type": "code",
      "metadata": {
        "id": "0N3MTOp-woX9",
        "colab_type": "code",
        "colab": {}
      },
      "source": [
        "def scaled_dot_product_attention(q, k, v, mask):\n",
        "  \"\"\"Calculate the attention weights.\n",
        "  q, k, v must have matching leading dimensions.\n",
        "  k, v must have matching penultimate dimension, i.e.: seq_len_k = seq_len_v.\n",
        "  The mask has different shapes depending on its type(padding or look ahead) \n",
        "  but it must be broadcastable for addition.\n",
        "  \n",
        "  Args:\n",
        "    q: query shape == (..., seq_len_q, depth)\n",
        "    k: key shape == (..., seq_len_k, depth)\n",
        "    v: value shape == (..., seq_len_v, depth_v)\n",
        "    mask: Float tensor with shape broadcastable \n",
        "          to (..., seq_len_q, seq_len_k). Defaults to None.\n",
        "    \n",
        "  Returns:\n",
        "    output, attention_weights\n",
        "  \"\"\"\n",
        "\n",
        "  matmul_qk = tf.matmul(q, k, transpose_b=True)  # (..., seq_len_q, seq_len_k)\n",
        "  \n",
        "  # scale matmul_qk\n",
        "  dk = tf.cast(tf.shape(k)[-1], tf.float32)\n",
        "  scaled_attention_logits = matmul_qk / tf.math.sqrt(dk)\n",
        "\n",
        "  # add the mask to the scaled tensor.\n",
        "  if mask is not None:\n",
        "    scaled_attention_logits += (mask * -1e9)  \n",
        "\n",
        "  # softmax is normalized on the last axis (seq_len_k) so that the scores\n",
        "  # add up to 1.\n",
        "  attention_weights = tf.nn.softmax(scaled_attention_logits, axis=-1)  # (..., seq_len_q, seq_len_k)\n",
        "\n",
        "  output = tf.matmul(attention_weights, v)  # (..., seq_len_q, depth_v)\n",
        "\n",
        "  return output, attention_weights"
      ],
      "execution_count": null,
      "outputs": []
    },
    {
      "cell_type": "code",
      "metadata": {
        "id": "im0vN_jbwvAZ",
        "colab_type": "code",
        "colab": {}
      },
      "source": [
        "def print_out(q, k, v):\n",
        "  temp_out, temp_attn = scaled_dot_product_attention(\n",
        "      q, k, v, None)\n",
        "  print ('Attention weights are:')\n",
        "  print (temp_attn)\n",
        "  print ('Output is:')\n",
        "  print (temp_out)\n"
      ],
      "execution_count": null,
      "outputs": []
    },
    {
      "cell_type": "code",
      "metadata": {
        "id": "C9qGzO3Tw0St",
        "colab_type": "code",
        "colab": {
          "base_uri": "https://localhost:8080/",
          "height": 86
        },
        "outputId": "724266c1-64ad-4f4c-ffcb-1000578e6871"
      },
      "source": [
        "np.set_printoptions(suppress=True)\n",
        "\n",
        "temp_k = tf.constant([[10,0,0],\n",
        "                      [0,10,0],\n",
        "                      [0,0,10],\n",
        "                      [0,0,10]], dtype=tf.float32)  # (4, 3)\n",
        "\n",
        "temp_v = tf.constant([[   1,0],\n",
        "                      [  10,0],\n",
        "                      [ 100,5],\n",
        "                      [1000,6]], dtype=tf.float32)  # (4, 2)\n",
        "\n",
        "# This `query` aligns with the second `key`,\n",
        "# so the second `value` is returned.\n",
        "temp_q = tf.constant([[0, 10, 0]], dtype=tf.float32)  # (1, 3)\n",
        "print_out(temp_q, temp_k, temp_v)\n"
      ],
      "execution_count": null,
      "outputs": [
        {
          "output_type": "stream",
          "text": [
            "Attention weights are:\n",
            "tf.Tensor([[0. 1. 0. 0.]], shape=(1, 4), dtype=float32)\n",
            "Output is:\n",
            "tf.Tensor([[10.  0.]], shape=(1, 2), dtype=float32)\n"
          ],
          "name": "stdout"
        }
      ]
    },
    {
      "cell_type": "code",
      "metadata": {
        "id": "MbmmZpKfw4iq",
        "colab_type": "code",
        "colab": {
          "base_uri": "https://localhost:8080/",
          "height": 86
        },
        "outputId": "78ba460e-61a3-44f4-d1a4-028f8452de99"
      },
      "source": [
        "# This query aligns with a repeated key (third and fourth), \n",
        "# so all associated values get averaged.\n",
        "temp_q = tf.constant([[0, 0, 10]], dtype=tf.float32)  # (1, 3)\n",
        "print_out(temp_q, temp_k, temp_v)\n"
      ],
      "execution_count": null,
      "outputs": [
        {
          "output_type": "stream",
          "text": [
            "Attention weights are:\n",
            "tf.Tensor([[0.  0.  0.5 0.5]], shape=(1, 4), dtype=float32)\n",
            "Output is:\n",
            "tf.Tensor([[550.    5.5]], shape=(1, 2), dtype=float32)\n"
          ],
          "name": "stdout"
        }
      ]
    },
    {
      "cell_type": "code",
      "metadata": {
        "id": "yyV3qE7HxCoN",
        "colab_type": "code",
        "colab": {
          "base_uri": "https://localhost:8080/",
          "height": 86
        },
        "outputId": "a69e5c3e-2092-4ff8-c361-0ca7ffd1626c"
      },
      "source": [
        "# This query aligns equally with the first and second key, \n",
        "# so their values get averaged.\n",
        "temp_q = tf.constant([[10, 10, 0]], dtype=tf.float32)  # (1, 3)\n",
        "print_out(temp_q, temp_k, temp_v)\n"
      ],
      "execution_count": null,
      "outputs": [
        {
          "output_type": "stream",
          "text": [
            "Attention weights are:\n",
            "tf.Tensor([[0.5 0.5 0.  0. ]], shape=(1, 4), dtype=float32)\n",
            "Output is:\n",
            "tf.Tensor([[5.5 0. ]], shape=(1, 2), dtype=float32)\n"
          ],
          "name": "stdout"
        }
      ]
    },
    {
      "cell_type": "code",
      "metadata": {
        "id": "D1vOEzUCxFds",
        "colab_type": "code",
        "colab": {
          "base_uri": "https://localhost:8080/",
          "height": 190
        },
        "outputId": "18688dea-3293-4f68-c44a-a790a25e019e"
      },
      "source": [
        "temp_q = tf.constant([[0, 0, 10], [0, 10, 0], [10, 10, 0]], dtype=tf.float32)  # (3, 3)\n",
        "print_out(temp_q, temp_k, temp_v)"
      ],
      "execution_count": null,
      "outputs": [
        {
          "output_type": "stream",
          "text": [
            "Attention weights are:\n",
            "tf.Tensor(\n",
            "[[0.  0.  0.5 0.5]\n",
            " [0.  1.  0.  0. ]\n",
            " [0.5 0.5 0.  0. ]], shape=(3, 4), dtype=float32)\n",
            "Output is:\n",
            "tf.Tensor(\n",
            "[[550.    5.5]\n",
            " [ 10.    0. ]\n",
            " [  5.5   0. ]], shape=(3, 2), dtype=float32)\n"
          ],
          "name": "stdout"
        }
      ]
    },
    {
      "cell_type": "code",
      "metadata": {
        "id": "d82q0oXExJs6",
        "colab_type": "code",
        "colab": {}
      },
      "source": [
        "class MultiHeadAttention(tf.keras.layers.Layer):\n",
        "  def __init__(self, d_model, num_heads):\n",
        "    super(MultiHeadAttention, self).__init__()\n",
        "    self.num_heads = num_heads\n",
        "    self.d_model = d_model\n",
        "    \n",
        "    assert d_model % self.num_heads == 0\n",
        "    \n",
        "    self.depth = d_model // self.num_heads\n",
        "    \n",
        "    self.wq = tf.keras.layers.Dense(d_model)\n",
        "    self.wk = tf.keras.layers.Dense(d_model)\n",
        "    self.wv = tf.keras.layers.Dense(d_model)\n",
        "    \n",
        "    self.dense = tf.keras.layers.Dense(d_model)\n",
        "        \n",
        "  def split_heads(self, x, batch_size):\n",
        "    \"\"\"Split the last dimension into (num_heads, depth).\n",
        "    Transpose the result such that the shape is (batch_size, num_heads, seq_len, depth)\n",
        "    \"\"\"\n",
        "    x = tf.reshape(x, (batch_size, -1, self.num_heads, self.depth))\n",
        "    return tf.transpose(x, perm=[0, 2, 1, 3])\n",
        "    \n",
        "  def call(self, v, k, q, mask):\n",
        "    batch_size = tf.shape(q)[0]\n",
        "    \n",
        "    q = self.wq(q)  # (batch_size, seq_len, d_model)\n",
        "    k = self.wk(k)  # (batch_size, seq_len, d_model)\n",
        "    v = self.wv(v)  # (batch_size, seq_len, d_model)\n",
        "    \n",
        "    q = self.split_heads(q, batch_size)  # (batch_size, num_heads, seq_len_q, depth)\n",
        "    k = self.split_heads(k, batch_size)  # (batch_size, num_heads, seq_len_k, depth)\n",
        "    v = self.split_heads(v, batch_size)  # (batch_size, num_heads, seq_len_v, depth)\n",
        "    \n",
        "    # scaled_attention.shape == (batch_size, num_heads, seq_len_q, depth)\n",
        "    # attention_weights.shape == (batch_size, num_heads, seq_len_q, seq_len_k)\n",
        "    scaled_attention, attention_weights = scaled_dot_product_attention(\n",
        "        q, k, v, mask)\n",
        "    \n",
        "    scaled_attention = tf.transpose(scaled_attention, perm=[0, 2, 1, 3])  # (batch_size, seq_len_q, num_heads, depth)\n",
        "\n",
        "    concat_attention = tf.reshape(scaled_attention, \n",
        "                                  (batch_size, -1, self.d_model))  # (batch_size, seq_len_q, d_model)\n",
        "\n",
        "    output = self.dense(concat_attention)  # (batch_size, seq_len_q, d_model)\n",
        "        \n",
        "    return output, attention_weights"
      ],
      "execution_count": null,
      "outputs": []
    },
    {
      "cell_type": "code",
      "metadata": {
        "id": "2JqLS1-TxTTQ",
        "colab_type": "code",
        "colab": {
          "base_uri": "https://localhost:8080/",
          "height": 34
        },
        "outputId": "438aaa8d-ae66-4724-fe4d-6e756b8e651c"
      },
      "source": [
        "temp_mha = MultiHeadAttention(d_model=512, num_heads=8)\n",
        "y = tf.random.uniform((1, 60, 512))  # (batch_size, encoder_sequence, d_model)\n",
        "out, attn = temp_mha(y, k=y, q=y, mask=None)\n",
        "out.shape, attn.shape"
      ],
      "execution_count": null,
      "outputs": [
        {
          "output_type": "execute_result",
          "data": {
            "text/plain": [
              "(TensorShape([1, 60, 512]), TensorShape([1, 8, 60, 60]))"
            ]
          },
          "metadata": {
            "tags": []
          },
          "execution_count": 34
        }
      ]
    },
    {
      "cell_type": "code",
      "metadata": {
        "id": "cNEDZ6bLxbVR",
        "colab_type": "code",
        "colab": {}
      },
      "source": [
        "def point_wise_feed_forward_network(d_model, dff):\n",
        "  return tf.keras.Sequential([\n",
        "      tf.keras.layers.Dense(dff, activation='relu'),  # (batch_size, seq_len, dff)\n",
        "      tf.keras.layers.Dense(d_model)  # (batch_size, seq_len, d_model)\n",
        "  ])\n"
      ],
      "execution_count": null,
      "outputs": []
    },
    {
      "cell_type": "code",
      "metadata": {
        "id": "rupGB_XFxgRf",
        "colab_type": "code",
        "colab": {
          "base_uri": "https://localhost:8080/",
          "height": 34
        },
        "outputId": "21cc1ee5-28a7-4c54-d39c-528549a9ce2f"
      },
      "source": [
        "sample_ffn = point_wise_feed_forward_network(512, 2048)\n",
        "sample_ffn(tf.random.uniform((64, 50, 512))).shape"
      ],
      "execution_count": null,
      "outputs": [
        {
          "output_type": "execute_result",
          "data": {
            "text/plain": [
              "TensorShape([64, 50, 512])"
            ]
          },
          "metadata": {
            "tags": []
          },
          "execution_count": 36
        }
      ]
    },
    {
      "cell_type": "markdown",
      "metadata": {
        "id": "0vf-_8pBDe5J",
        "colab_type": "text"
      },
      "source": [
        "## Encoder"
      ]
    },
    {
      "cell_type": "code",
      "metadata": {
        "id": "HRyZUXh8xjKq",
        "colab_type": "code",
        "colab": {}
      },
      "source": [
        "class EncoderLayer(tf.keras.layers.Layer):\n",
        "  def __init__(self, d_model, num_heads, dff, rate=0.1):\n",
        "    super(EncoderLayer, self).__init__()\n",
        "\n",
        "    self.mha = MultiHeadAttention(d_model, num_heads)\n",
        "    self.ffn = point_wise_feed_forward_network(d_model, dff)\n",
        "\n",
        "    self.layernorm1 = tf.keras.layers.LayerNormalization(epsilon=1e-6)\n",
        "    self.layernorm2 = tf.keras.layers.LayerNormalization(epsilon=1e-6)\n",
        "    \n",
        "    self.dropout1 = tf.keras.layers.Dropout(rate)\n",
        "    self.dropout2 = tf.keras.layers.Dropout(rate)\n",
        "    \n",
        "  def call(self, x, training, mask):\n",
        "\n",
        "    attn_output, _ = self.mha(x, x, x, mask)  # (batch_size, input_seq_len, d_model)\n",
        "    attn_output = self.dropout1(attn_output, training=training)\n",
        "    out1 = self.layernorm1(x + attn_output)  # (batch_size, input_seq_len, d_model)\n",
        "    \n",
        "    ffn_output = self.ffn(out1)  # (batch_size, input_seq_len, d_model)\n",
        "    ffn_output = self.dropout2(ffn_output, training=training)\n",
        "    out2 = self.layernorm2(out1 + ffn_output)  # (batch_size, input_seq_len, d_model)\n",
        "    \n",
        "    return out2"
      ],
      "execution_count": null,
      "outputs": []
    },
    {
      "cell_type": "code",
      "metadata": {
        "id": "mO5uqrd4xwF1",
        "colab_type": "code",
        "colab": {
          "base_uri": "https://localhost:8080/",
          "height": 34
        },
        "outputId": "2d0e4d9f-59f2-411c-9772-8b65dffc859e"
      },
      "source": [
        "sample_encoder_layer = EncoderLayer(512, 8, 2048)\n",
        "\n",
        "sample_encoder_layer_output = sample_encoder_layer(\n",
        "    tf.random.uniform((64, 43, 512)), False, None)\n",
        "\n",
        "sample_encoder_layer_output.shape  # (batch_size, input_seq_len, d_model)\n"
      ],
      "execution_count": null,
      "outputs": [
        {
          "output_type": "execute_result",
          "data": {
            "text/plain": [
              "TensorShape([64, 43, 512])"
            ]
          },
          "metadata": {
            "tags": []
          },
          "execution_count": 38
        }
      ]
    },
    {
      "cell_type": "code",
      "metadata": {
        "id": "v_h4RmXrx5Ql",
        "colab_type": "code",
        "colab": {}
      },
      "source": [
        "class DecoderLayer(tf.keras.layers.Layer):\n",
        "  def __init__(self, d_model, num_heads, dff, rate=0.1):\n",
        "    super(DecoderLayer, self).__init__()\n",
        "\n",
        "    self.mha1 = MultiHeadAttention(d_model, num_heads)\n",
        "    self.mha2 = MultiHeadAttention(d_model, num_heads)\n",
        "\n",
        "    self.ffn = point_wise_feed_forward_network(d_model, dff)\n",
        " \n",
        "    self.layernorm1 = tf.keras.layers.LayerNormalization(epsilon=1e-6)\n",
        "    self.layernorm2 = tf.keras.layers.LayerNormalization(epsilon=1e-6)\n",
        "    self.layernorm3 = tf.keras.layers.LayerNormalization(epsilon=1e-6)\n",
        "    \n",
        "    self.dropout1 = tf.keras.layers.Dropout(rate)\n",
        "    self.dropout2 = tf.keras.layers.Dropout(rate)\n",
        "    self.dropout3 = tf.keras.layers.Dropout(rate)\n",
        "    \n",
        "    \n",
        "  def call(self, x, enc_output, training, \n",
        "           look_ahead_mask, padding_mask):\n",
        "    # enc_output.shape == (batch_size, input_seq_len, d_model)\n",
        "\n",
        "    attn1, attn_weights_block1 = self.mha1(x, x, x, look_ahead_mask)  # (batch_size, target_seq_len, d_model)\n",
        "    attn1 = self.dropout1(attn1, training=training)\n",
        "    out1 = self.layernorm1(attn1 + x)\n",
        "    \n",
        "    attn2, attn_weights_block2 = self.mha2(\n",
        "        enc_output, enc_output, out1, padding_mask)  # (batch_size, target_seq_len, d_model)\n",
        "    attn2 = self.dropout2(attn2, training=training)\n",
        "    out2 = self.layernorm2(attn2 + out1)  # (batch_size, target_seq_len, d_model)\n",
        "    \n",
        "    ffn_output = self.ffn(out2)  # (batch_size, target_seq_len, d_model)\n",
        "    ffn_output = self.dropout3(ffn_output, training=training)\n",
        "    out3 = self.layernorm3(ffn_output + out2)  # (batch_size, target_seq_len, d_model)\n",
        "    \n",
        "    return out3, attn_weights_block1, attn_weights_block2"
      ],
      "execution_count": null,
      "outputs": []
    },
    {
      "cell_type": "code",
      "metadata": {
        "id": "C6wutzHvyB6I",
        "colab_type": "code",
        "colab": {
          "base_uri": "https://localhost:8080/",
          "height": 34
        },
        "outputId": "be19346d-8283-4271-ba22-3a858862e798"
      },
      "source": [
        "sample_decoder_layer = DecoderLayer(512, 8, 2048)\n",
        "\n",
        "sample_decoder_layer_output, _, _ = sample_decoder_layer(\n",
        "    tf.random.uniform((64, 50, 512)), sample_encoder_layer_output, \n",
        "    False, None, None)\n",
        "\n",
        "sample_decoder_layer_output.shape  # (batch_size, target_seq_len, d_model)\n"
      ],
      "execution_count": null,
      "outputs": [
        {
          "output_type": "execute_result",
          "data": {
            "text/plain": [
              "TensorShape([64, 50, 512])"
            ]
          },
          "metadata": {
            "tags": []
          },
          "execution_count": 40
        }
      ]
    },
    {
      "cell_type": "code",
      "metadata": {
        "id": "kM39HxcKyGKA",
        "colab_type": "code",
        "colab": {}
      },
      "source": [
        "class Encoder(tf.keras.layers.Layer):\n",
        "  def __init__(self, num_layers, d_model, num_heads, dff, input_vocab_size,\n",
        "               maximum_position_encoding, rate=0.1):\n",
        "    super(Encoder, self).__init__()\n",
        "\n",
        "    self.d_model = d_model\n",
        "    self.num_layers = num_layers\n",
        "    \n",
        "    self.embedding = tf.keras.layers.Embedding(input_vocab_size, d_model)\n",
        "    self.pos_encoding = positional_encoding(maximum_position_encoding, \n",
        "                                            self.d_model)\n",
        "    \n",
        "    \n",
        "    self.enc_layers = [EncoderLayer(d_model, num_heads, dff, rate) \n",
        "                       for _ in range(num_layers)]\n",
        "  \n",
        "    self.dropout = tf.keras.layers.Dropout(rate)\n",
        "        \n",
        "  def call(self, x, training, mask):\n",
        "\n",
        "    seq_len = tf.shape(x)[1]\n",
        "    \n",
        "    # adding embedding and position encoding.\n",
        "    x = self.embedding(x)  # (batch_size, input_seq_len, d_model)\n",
        "    x *= tf.math.sqrt(tf.cast(self.d_model, tf.float32))\n",
        "    x += self.pos_encoding[:, :seq_len, :]\n",
        "\n",
        "    x = self.dropout(x, training=training)\n",
        "    \n",
        "    for i in range(self.num_layers):\n",
        "      x = self.enc_layers[i](x, training, mask)\n",
        "    \n",
        "    return x  # (batch_size, input_seq_len, d_model)"
      ],
      "execution_count": null,
      "outputs": []
    },
    {
      "cell_type": "code",
      "metadata": {
        "id": "E6KvL62SyOa2",
        "colab_type": "code",
        "colab": {
          "base_uri": "https://localhost:8080/",
          "height": 34
        },
        "outputId": "6ec30f0a-a680-4128-ff6e-03b5f37a3eca"
      },
      "source": [
        "sample_encoder = Encoder(num_layers=2, d_model=512, num_heads=8, \n",
        "                         dff=2048, input_vocab_size=8500,\n",
        "                         maximum_position_encoding=10000)\n",
        "temp_input = tf.random.uniform((64, 62), dtype=tf.int64, minval=0, maxval=200)\n",
        "\n",
        "sample_encoder_output = sample_encoder(temp_input, training=False, mask=None)\n",
        "\n",
        "print (sample_encoder_output.shape)  # (batch_size, input_seq_len, d_model)"
      ],
      "execution_count": null,
      "outputs": [
        {
          "output_type": "stream",
          "text": [
            "(64, 62, 512)\n"
          ],
          "name": "stdout"
        }
      ]
    },
    {
      "cell_type": "markdown",
      "metadata": {
        "id": "Adm8aXs-yYQp",
        "colab_type": "text"
      },
      "source": [
        "## Decoder"
      ]
    },
    {
      "cell_type": "code",
      "metadata": {
        "id": "ZxXENqXvyVCb",
        "colab_type": "code",
        "colab": {}
      },
      "source": [
        "class Decoder(tf.keras.layers.Layer):\n",
        "  def __init__(self, num_layers, d_model, num_heads, dff, target_vocab_size,\n",
        "               maximum_position_encoding, rate=0.1):\n",
        "    super(Decoder, self).__init__()\n",
        "\n",
        "    self.d_model = d_model\n",
        "    self.num_layers = num_layers\n",
        "    \n",
        "    self.embedding = tf.keras.layers.Embedding(target_vocab_size, d_model)\n",
        "    self.pos_encoding = positional_encoding(maximum_position_encoding, d_model)\n",
        "    \n",
        "    self.dec_layers = [DecoderLayer(d_model, num_heads, dff, rate) \n",
        "                       for _ in range(num_layers)]\n",
        "    self.dropout = tf.keras.layers.Dropout(rate)\n",
        "    \n",
        "  def call(self, x, enc_output, training, \n",
        "           look_ahead_mask, padding_mask):\n",
        "\n",
        "    seq_len = tf.shape(x)[1]\n",
        "    attention_weights = {}\n",
        "    \n",
        "    x = self.embedding(x)  # (batch_size, target_seq_len, d_model)\n",
        "    x *= tf.math.sqrt(tf.cast(self.d_model, tf.float32))\n",
        "    x += self.pos_encoding[:, :seq_len, :]\n",
        "    \n",
        "    x = self.dropout(x, training=training)\n",
        "\n",
        "    for i in range(self.num_layers):\n",
        "      x, block1, block2 = self.dec_layers[i](x, enc_output, training,\n",
        "                                             look_ahead_mask, padding_mask)\n",
        "      \n",
        "      attention_weights['decoder_layer{}_block1'.format(i+1)] = block1\n",
        "      attention_weights['decoder_layer{}_block2'.format(i+1)] = block2\n",
        "    \n",
        "    # x.shape == (batch_size, target_seq_len, d_model)\n",
        "    return x, attention_weights\n"
      ],
      "execution_count": null,
      "outputs": []
    },
    {
      "cell_type": "code",
      "metadata": {
        "id": "e6gDHIibyc5C",
        "colab_type": "code",
        "colab": {
          "base_uri": "https://localhost:8080/",
          "height": 34
        },
        "outputId": "1719c0ed-471b-4bf6-d91b-382356b71f62"
      },
      "source": [
        "sample_decoder = Decoder(num_layers=2, d_model=512, num_heads=8, \n",
        "                         dff=2048, target_vocab_size=8000,\n",
        "                         maximum_position_encoding=5000)\n",
        "temp_input = tf.random.uniform((64, 26), dtype=tf.int64, minval=0, maxval=200)\n",
        "\n",
        "output, attn = sample_decoder(temp_input, \n",
        "                              enc_output=sample_encoder_output, \n",
        "                              training=False,\n",
        "                              look_ahead_mask=None, \n",
        "                              padding_mask=None)\n",
        "\n",
        "output.shape, attn['decoder_layer2_block2'].shape"
      ],
      "execution_count": null,
      "outputs": [
        {
          "output_type": "execute_result",
          "data": {
            "text/plain": [
              "(TensorShape([64, 26, 512]), TensorShape([64, 8, 26, 62]))"
            ]
          },
          "metadata": {
            "tags": []
          },
          "execution_count": 44
        }
      ]
    },
    {
      "cell_type": "code",
      "metadata": {
        "id": "T_-lcKnBygxs",
        "colab_type": "code",
        "colab": {}
      },
      "source": [
        "class Transformer(tf.keras.Model):\n",
        "  def __init__(self, num_layers, d_model, num_heads, dff, input_vocab_size, \n",
        "               target_vocab_size, pe_input, pe_target, rate=0.1):\n",
        "    super(Transformer, self).__init__()\n",
        "\n",
        "    self.encoder = Encoder(num_layers, d_model, num_heads, dff, \n",
        "                           input_vocab_size, pe_input, rate)\n",
        "\n",
        "    self.decoder = Decoder(num_layers, d_model, num_heads, dff, \n",
        "                           target_vocab_size, pe_target, rate)\n",
        "\n",
        "    self.final_layer = tf.keras.layers.Dense(target_vocab_size)\n",
        "    \n",
        "  def call(self,ar_key ):\n",
        "    inp, tar, training, enc_padding_mask,  look_ahead_mask, dec_padding_mask = ar_key\n",
        "    enc_output = self.encoder(inp, training, enc_padding_mask)  # (batch_size, inp_seq_len, d_model)\n",
        "    \n",
        "    # dec_output.shape == (batch_size, tar_seq_len, d_model)\n",
        "    dec_output, attention_weights = self.decoder(\n",
        "        tar, enc_output, training, look_ahead_mask, dec_padding_mask)\n",
        "    \n",
        "    final_output = self.final_layer(dec_output)  # (batch_size, tar_seq_len, target_vocab_size)\n",
        "    \n",
        "    return final_output, attention_weights\n"
      ],
      "execution_count": null,
      "outputs": []
    },
    {
      "cell_type": "code",
      "metadata": {
        "id": "23_jbmsZysIi",
        "colab_type": "code",
        "colab": {
          "base_uri": "https://localhost:8080/",
          "height": 34
        },
        "outputId": "04401f04-526d-41e3-a05d-9e7b7061f29f"
      },
      "source": [
        "sample_transformer = Transformer(\n",
        "    num_layers=2, d_model=512, num_heads=8, dff=2048, \n",
        "    input_vocab_size=8500, target_vocab_size=8000, \n",
        "    pe_input=10000, pe_target=6000)\n",
        "\n",
        "temp_input = tf.random.uniform((64, 38), dtype=tf.int64, minval=0, maxval=200)\n",
        "temp_target = tf.random.uniform((64, 36), dtype=tf.int64, minval=0, maxval=200)\n",
        "\n",
        "fn_out, _ = sample_transformer(temp_input, temp_target, training=False, \n",
        "                               enc_padding_mask=None, \n",
        "                               look_ahead_mask=None,\n",
        "                               dec_padding_mask=None)\n",
        "\n",
        "fn_out.shape  # (batch_size, tar_seq_len, target_vocab_size)\n"
      ],
      "execution_count": null,
      "outputs": [
        {
          "output_type": "execute_result",
          "data": {
            "text/plain": [
              "TensorShape([64, 36, 8000])"
            ]
          },
          "metadata": {
            "tags": []
          },
          "execution_count": 33
        }
      ]
    },
    {
      "cell_type": "code",
      "metadata": {
        "id": "av7wt_RVywa-",
        "colab_type": "code",
        "colab": {}
      },
      "source": [
        "num_layers = 4\n",
        "d_model = 128\n",
        "dff = 512\n",
        "num_heads = 8\n",
        "\n",
        "input_vocab_size = len(inp_lang.word_index) + 2\n",
        "target_vocab_size = len(targ_lang.word_index) + 2\n",
        "dropout_rate = 0.1\n"
      ],
      "execution_count": null,
      "outputs": []
    },
    {
      "cell_type": "code",
      "metadata": {
        "id": "gCJEsh1by-FY",
        "colab_type": "code",
        "colab": {
          "base_uri": "https://localhost:8080/",
          "height": 34
        },
        "outputId": "959778ca-7aee-4b21-ada5-4248f1f97c2c"
      },
      "source": [
        "len(targ_lang.word_index)"
      ],
      "execution_count": null,
      "outputs": [
        {
          "output_type": "execute_result",
          "data": {
            "text/plain": [
              "6346"
            ]
          },
          "metadata": {
            "tags": []
          },
          "execution_count": 47
        }
      ]
    },
    {
      "cell_type": "code",
      "metadata": {
        "id": "wZCprdV7zcRG",
        "colab_type": "code",
        "colab": {}
      },
      "source": [
        "class CustomSchedule(tf.keras.optimizers.schedules.LearningRateSchedule):\n",
        "  def __init__(self, d_model, warmup_steps=4000):\n",
        "    super(CustomSchedule, self).__init__()\n",
        "    \n",
        "    self.d_model = d_model\n",
        "    self.d_model = tf.cast(self.d_model, tf.float32)\n",
        "\n",
        "    self.warmup_steps = warmup_steps\n",
        "    \n",
        "  def __call__(self, step):\n",
        "    arg1 = tf.math.rsqrt(step)\n",
        "    arg2 = step * (self.warmup_steps ** -1.5)\n",
        "    \n",
        "    return tf.math.rsqrt(self.d_model) * tf.math.minimum(arg1, arg2)\n"
      ],
      "execution_count": null,
      "outputs": []
    },
    {
      "cell_type": "code",
      "metadata": {
        "id": "Wb00dz3gz1-T",
        "colab_type": "code",
        "colab": {}
      },
      "source": [
        "learning_rate = CustomSchedule(d_model)\n",
        "\n",
        "optimizer = tf.keras.optimizers.Adam(learning_rate, beta_1=0.9, beta_2=0.98, \n",
        "                                     epsilon=1e-9)\n"
      ],
      "execution_count": null,
      "outputs": []
    },
    {
      "cell_type": "code",
      "metadata": {
        "id": "gPxIdqN-05z4",
        "colab_type": "code",
        "colab": {
          "base_uri": "https://localhost:8080/",
          "height": 296
        },
        "outputId": "54af22a4-0fb4-4caf-cf32-ef8a40eca94f"
      },
      "source": [
        "temp_learning_rate_schedule = CustomSchedule(d_model)\n",
        "\n",
        "plt.plot(temp_learning_rate_schedule(tf.range(40000, dtype=tf.float32)))\n",
        "plt.ylabel(\"Learning Rate\")\n",
        "plt.xlabel(\"Train Step\")\n"
      ],
      "execution_count": null,
      "outputs": [
        {
          "output_type": "execute_result",
          "data": {
            "text/plain": [
              "Text(0.5, 0, 'Train Step')"
            ]
          },
          "metadata": {
            "tags": []
          },
          "execution_count": 50
        },
        {
          "output_type": "display_data",
          "data": {
            "image/png": "[encoded data removed]",
            "text/plain": [
              "<Figure size 432x288 with 1 Axes>"
            ]
          },
          "metadata": {
            "tags": [],
            "needs_background": "light"
          }
        }
      ]
    },
    {
      "cell_type": "code",
      "metadata": {
        "id": "NsPL9DxH0_6H",
        "colab_type": "code",
        "colab": {}
      },
      "source": [
        "loss_object = tf.keras.losses.SparseCategoricalCrossentropy(\n",
        "    from_logits=True, reduction='none')\n"
      ],
      "execution_count": null,
      "outputs": []
    },
    {
      "cell_type": "code",
      "metadata": {
        "id": "oXu70Dnd1D7m",
        "colab_type": "code",
        "colab": {}
      },
      "source": [
        "def loss_function(real, pred):\n",
        "  mask = tf.math.logical_not(tf.math.equal(real, 0))\n",
        "  loss_ = loss_object(real, pred)\n",
        "\n",
        "  mask = tf.cast(mask, dtype=loss_.dtype)\n",
        "  loss_ *= mask\n",
        "  \n",
        "  return tf.reduce_sum(loss_)/tf.reduce_sum(mask)"
      ],
      "execution_count": null,
      "outputs": []
    },
    {
      "cell_type": "code",
      "metadata": {
        "id": "ahVYxb0U1G9_",
        "colab_type": "code",
        "colab": {}
      },
      "source": [
        "train_loss = tf.keras.metrics.Mean(name='train_loss')\n",
        "train_accuracy = tf.keras.metrics.SparseCategoricalAccuracy(\n",
        "    name='train_accuracy')\n"
      ],
      "execution_count": null,
      "outputs": []
    },
    {
      "cell_type": "code",
      "metadata": {
        "id": "FVZE2X4S2Znd",
        "colab_type": "code",
        "colab": {}
      },
      "source": [
        "valid_loss = tf.keras.metrics.Mean(name='valid_loss')\n",
        "valid_accuracy = tf.keras.metrics.SparseCategoricalAccuracy(\n",
        "    name='valid_accuracy')"
      ],
      "execution_count": null,
      "outputs": []
    },
    {
      "cell_type": "code",
      "metadata": {
        "id": "uCJkYkrY1J8z",
        "colab_type": "code",
        "colab": {}
      },
      "source": [
        "transformer = Transformer(num_layers, d_model, num_heads, dff,\n",
        "                          input_vocab_size, target_vocab_size, \n",
        "                          pe_input=input_vocab_size, \n",
        "                          pe_target=target_vocab_size,\n",
        "                          rate=dropout_rate)"
      ],
      "execution_count": null,
      "outputs": []
    },
    {
      "cell_type": "code",
      "metadata": {
        "id": "M9RWLs5o1Qos",
        "colab_type": "code",
        "colab": {}
      },
      "source": [
        "def create_masks(inp, tar):\n",
        "  # Encoder padding mask\n",
        "  enc_padding_mask = create_padding_mask(inp)\n",
        "  \n",
        "  # Used in the 2nd attention block in the decoder.\n",
        "  # This padding mask is used to mask the encoder outputs.\n",
        "  dec_padding_mask = create_padding_mask(inp)\n",
        "  \n",
        "  # Used in the 1st attention block in the decoder.\n",
        "  # It is used to pad and mask future tokens in the input received by \n",
        "  # the decoder.\n",
        "  look_ahead_mask = create_look_ahead_mask(tf.shape(tar)[1])\n",
        "  dec_target_padding_mask = create_padding_mask(tar)\n",
        "  combined_mask = tf.maximum(dec_target_padding_mask, look_ahead_mask)\n",
        "  \n",
        "  return enc_padding_mask, combined_mask, dec_padding_mask"
      ],
      "execution_count": null,
      "outputs": []
    },
    {
      "cell_type": "code",
      "metadata": {
        "id": "9h4p5l0K1Ufr",
        "colab_type": "code",
        "colab": {}
      },
      "source": [
        "checkpoint_path = \"/checkpoints/train\"\n",
        "\n",
        "ckpt = tf.train.Checkpoint(transformer=transformer,\n",
        "                           optimizer=optimizer)\n",
        "\n",
        "ckpt_manager = tf.train.CheckpointManager(ckpt, checkpoint_path, max_to_keep=5)\n",
        "\n",
        "# if a checkpoint exists, restore the latest checkpoint.\n",
        "if ckpt_manager.latest_checkpoint:\n",
        "  ckpt.restore(ckpt_manager.latest_checkpoint)\n",
        "  print ('Latest checkpoint restored!!')\n"
      ],
      "execution_count": null,
      "outputs": []
    },
    {
      "cell_type": "code",
      "metadata": {
        "id": "US7F_kq71YOs",
        "colab_type": "code",
        "colab": {}
      },
      "source": [
        "EPOCHS = 50"
      ],
      "execution_count": null,
      "outputs": []
    },
    {
      "cell_type": "code",
      "metadata": {
        "id": "4T7DxUE61jfb",
        "colab_type": "code",
        "colab": {}
      },
      "source": [
        "# The @tf.function trace-compiles train_step into a TF graph for faster\n",
        "# execution. The function specializes to the precise shape of the argument\n",
        "# tensors. To avoid re-tracing due to the variable sequence lengths or variable\n",
        "# batch sizes (the last batch is smaller), use input_signature to specify\n",
        "# more generic shapes.\n",
        "\n",
        "train_step_signature = [\n",
        "    tf.TensorSpec(shape=(None, None), dtype=tf.int64),\n",
        "    tf.TensorSpec(shape=(None, None), dtype=tf.int64),\n",
        "]\n",
        "\n",
        "@tf.function(input_signature=train_step_signature)\n",
        "def train_step(inp, tar):\n",
        "  tar_inp = tar[:, :-1]\n",
        "  tar_real = tar[:, 1:]\n",
        "  \n",
        "  enc_padding_mask, combined_mask, dec_padding_mask = create_masks(inp, tar_inp)\n",
        "  \n",
        "\n",
        "  with tf.GradientTape() as tape:\n",
        "    predictions, _ = transformer([inp, tar_inp, \n",
        "                                True, \n",
        "                                enc_padding_mask, \n",
        "                                combined_mask, \n",
        "                                dec_padding_mask])\n",
        "    loss = loss_function(tar_real, predictions)\n",
        "\n",
        "  gradients = tape.gradient(loss, transformer.trainable_variables)    \n",
        "  optimizer.apply_gradients(zip(gradients, transformer.trainable_variables))\n",
        "  \n",
        "  train_loss(loss)\n",
        "  train_accuracy(tar_real, predictions)\n",
        " \n",
        "\n",
        "\n",
        "@tf.function(input_signature=train_step_signature)\n",
        "def valid_step(inp, tar):\n",
        "  tar_inp = tar[:, :-1]\n",
        "  tar_real = tar[:, 1:]\n",
        "  \n",
        "  enc_padding_mask, combined_mask, dec_padding_mask = create_masks(inp, tar_inp)\n",
        "  \n",
        "  predictions, _ = transformer([inp, tar_inp, \n",
        "                                False, \n",
        "                                enc_padding_mask, \n",
        "                                combined_mask, \n",
        "                                dec_padding_mask])\n",
        "  loss = loss_function(tar_real, predictions)\n",
        "\n",
        "  valid_loss(loss)\n",
        "  valid_accuracy(tar_real, predictions)"
      ],
      "execution_count": null,
      "outputs": []
    },
    {
      "cell_type": "markdown",
      "metadata": {
        "id": "SWt-XP7glmY_",
        "colab_type": "text"
      },
      "source": [
        "## Training"
      ]
    },
    {
      "cell_type": "code",
      "metadata": {
        "id": "pzcsyWKR1_I1",
        "colab_type": "code",
        "colab": {
          "base_uri": "https://localhost:8080/",
          "height": 1000
        },
        "outputId": "5182ce74-0f9d-40ed-8e51-7a39d1455b47"
      },
      "source": [
        "for epoch in range(EPOCHS):\n",
        "  start = time.time()\n",
        "  \n",
        "  train_loss.reset_states()\n",
        "  train_accuracy.reset_states()\n",
        "  \n",
        "  # inp -> portuguese, tar -> english\n",
        "  for (batch, (inp, tar)) in enumerate(train_loader):\n",
        "\n",
        "    new_inp = tf.cast(inp, tf.int64)\n",
        "    new_tar = tf.cast(tar, tf.int64)\n",
        "    train_step(new_inp, new_tar)\n",
        "    \n",
        "    if batch % 50 == 0:\n",
        "      print ('Epoch {} Batch {} Loss {:.4f} Accuracy {:.4f}'.format(\n",
        "          epoch + 1, batch, train_loss.result(), train_accuracy.result()))\n",
        "      \n",
        "      #validation\n",
        "  for x_val, y_val in val_loader:\n",
        "    new_xval = tf.cast(x_val, tf.int64)\n",
        "    new_yval = tf.cast(y_val, tf.int64)\n",
        "    valid_step(new_xval,new_yval)\n",
        "\n",
        "  val_acc = valid_accuracy.result()\n",
        "  val_loss = valid_loss.result()\n",
        "  valid_accuracy.reset_states()\n",
        "  valid_loss.reset_states()\n",
        "  print(\"Validation acc: %.4f  Validation loss: %.4f\" % (float(val_acc),float(val_loss)))\n",
        "      \n",
        "  if (epoch + 1) % 5 == 0:\n",
        "    ckpt_save_path = ckpt_manager.save()\n",
        "    print ('Saving checkpoint for epoch {} at {}'.format(epoch+1,\n",
        "                                                         ckpt_save_path))\n",
        "    \n",
        "  print ('Epoch {} Loss {:.4f} Accuracy {:.4f}'.format(epoch + 1, \n",
        "                                                train_loss.result(), \n",
        "                                                train_accuracy.result()))\n",
        "\n",
        "  print ('Time taken for 1 epoch: {} secs\\n'.format(time.time() - start))\n"
      ],
      "execution_count": null,
      "outputs": [
        {
          "output_type": "stream",
          "text": [
            "Epoch 1 Batch 0 Loss 8.7584 Accuracy 0.0002\n",
            "Epoch 1 Batch 50 Loss 8.7005 Accuracy 0.0004\n",
            "Epoch 1 Batch 100 Loss 8.6005 Accuracy 0.0045\n",
            "Epoch 1 Batch 150 Loss 8.4650 Accuracy 0.0068\n",
            "Validation acc: 0.0115  Validation loss: 7.8825\n",
            "Epoch 1 Loss 8.4358 Accuracy 0.0071\n",
            "Time taken for 1 epoch: 77.63372015953064 secs\n",
            "\n",
            "Epoch 2 Batch 0 Loss 7.9057 Accuracy 0.0115\n",
            "Epoch 2 Batch 50 Loss 7.6567 Accuracy 0.0115\n",
            "Epoch 2 Batch 100 Loss 7.3927 Accuracy 0.0115\n",
            "Epoch 2 Batch 150 Loss 7.1333 Accuracy 0.0115\n",
            "Validation acc: 0.0115  Validation loss: 6.2923\n",
            "Epoch 2 Loss 7.0889 Accuracy 0.0115\n",
            "Time taken for 1 epoch: 58.31548237800598 secs\n",
            "\n",
            "Epoch 3 Batch 0 Loss 6.3268 Accuracy 0.0115\n",
            "Epoch 3 Batch 50 Loss 6.1565 Accuracy 0.0115\n",
            "Epoch 3 Batch 100 Loss 6.0613 Accuracy 0.0123\n",
            "Epoch 3 Batch 150 Loss 5.9924 Accuracy 0.0155\n",
            "Validation acc: 0.0296  Validation loss: 5.7471\n",
            "Epoch 3 Loss 5.9803 Accuracy 0.0161\n",
            "Time taken for 1 epoch: 58.41392469406128 secs\n",
            "\n",
            "Epoch 4 Batch 0 Loss 5.7524 Accuracy 0.0272\n",
            "Epoch 4 Batch 50 Loss 5.6831 Accuracy 0.0306\n",
            "Epoch 4 Batch 100 Loss 5.5934 Accuracy 0.0336\n",
            "Epoch 4 Batch 150 Loss 5.5073 Accuracy 0.0361\n",
            "Validation acc: 0.0464  Validation loss: 5.1714\n",
            "Epoch 4 Loss 5.4911 Accuracy 0.0365\n",
            "Time taken for 1 epoch: 58.277217388153076 secs\n",
            "\n",
            "Epoch 5 Batch 0 Loss 5.1471 Accuracy 0.0469\n",
            "Epoch 5 Batch 50 Loss 5.1142 Accuracy 0.0471\n",
            "Epoch 5 Batch 100 Loss 5.0638 Accuracy 0.0495\n",
            "Epoch 5 Batch 150 Loss 5.0037 Accuracy 0.0514\n",
            "Validation acc: 0.0595  Validation loss: 4.7688\n",
            "Saving checkpoint for epoch 5 at /checkpoints/train/ckpt-1\n",
            "Epoch 5 Loss 4.9923 Accuracy 0.0517\n",
            "Time taken for 1 epoch: 58.80634427070618 secs\n",
            "\n",
            "Epoch 6 Batch 0 Loss 4.7460 Accuracy 0.0579\n",
            "Epoch 6 Batch 50 Loss 4.7387 Accuracy 0.0601\n",
            "Epoch 6 Batch 100 Loss 4.6975 Accuracy 0.0609\n",
            "Epoch 6 Batch 150 Loss 4.6536 Accuracy 0.0621\n",
            "Validation acc: 0.0681  Validation loss: 4.5016\n",
            "Epoch 6 Loss 4.6474 Accuracy 0.0624\n",
            "Time taken for 1 epoch: 58.36201357841492 secs\n",
            "\n",
            "Epoch 7 Batch 0 Loss 4.4724 Accuracy 0.0675\n",
            "Epoch 7 Batch 50 Loss 4.4517 Accuracy 0.0675\n",
            "Epoch 7 Batch 100 Loss 4.4203 Accuracy 0.0688\n",
            "Epoch 7 Batch 150 Loss 4.3971 Accuracy 0.0697\n",
            "Validation acc: 0.0748  Validation loss: 4.3040\n",
            "Epoch 7 Loss 4.3932 Accuracy 0.0699\n",
            "Time taken for 1 epoch: 58.2997407913208 secs\n",
            "\n",
            "Epoch 8 Batch 0 Loss 4.2356 Accuracy 0.0690\n",
            "Epoch 8 Batch 50 Loss 4.2413 Accuracy 0.0744\n",
            "Epoch 8 Batch 100 Loss 4.2123 Accuracy 0.0756\n",
            "Epoch 8 Batch 150 Loss 4.1893 Accuracy 0.0761\n",
            "Validation acc: 0.0801  Validation loss: 4.1361\n",
            "Epoch 8 Loss 4.1848 Accuracy 0.0763\n",
            "Time taken for 1 epoch: 58.526060581207275 secs\n",
            "\n",
            "Epoch 9 Batch 0 Loss 4.0370 Accuracy 0.0785\n",
            "Epoch 9 Batch 50 Loss 4.0304 Accuracy 0.0811\n",
            "Epoch 9 Batch 100 Loss 4.0169 Accuracy 0.0816\n",
            "Epoch 9 Batch 150 Loss 4.0039 Accuracy 0.0821\n",
            "Validation acc: 0.0851  Validation loss: 4.0068\n",
            "Epoch 9 Loss 4.0007 Accuracy 0.0821\n",
            "Time taken for 1 epoch: 58.32662391662598 secs\n",
            "\n",
            "Epoch 10 Batch 0 Loss 3.8701 Accuracy 0.0847\n",
            "Epoch 10 Batch 50 Loss 3.8560 Accuracy 0.0872\n",
            "Epoch 10 Batch 100 Loss 3.8422 Accuracy 0.0875\n",
            "Epoch 10 Batch 150 Loss 3.8224 Accuracy 0.0885\n",
            "Validation acc: 0.0912  Validation loss: 3.8393\n",
            "Saving checkpoint for epoch 10 at /checkpoints/train/ckpt-2\n",
            "Epoch 10 Loss 3.8188 Accuracy 0.0888\n",
            "Time taken for 1 epoch: 58.880871295928955 secs\n",
            "\n",
            "Epoch 11 Batch 0 Loss 3.7587 Accuracy 0.0851\n",
            "Epoch 11 Batch 50 Loss 3.6538 Accuracy 0.0949\n",
            "Epoch 11 Batch 100 Loss 3.6305 Accuracy 0.0959\n",
            "Epoch 11 Batch 150 Loss 3.6110 Accuracy 0.0970\n",
            "Validation acc: 0.0988  Validation loss: 3.6717\n",
            "Epoch 11 Loss 3.6093 Accuracy 0.0972\n",
            "Time taken for 1 epoch: 58.62432885169983 secs\n",
            "\n",
            "Epoch 12 Batch 0 Loss 3.5059 Accuracy 0.1017\n",
            "Epoch 12 Batch 50 Loss 3.4483 Accuracy 0.1049\n",
            "Epoch 12 Batch 100 Loss 3.4167 Accuracy 0.1054\n",
            "Epoch 12 Batch 150 Loss 3.3977 Accuracy 0.1062\n",
            "Validation acc: 0.1077  Validation loss: 3.4852\n",
            "Epoch 12 Loss 3.3956 Accuracy 0.1062\n",
            "Time taken for 1 epoch: 58.44906258583069 secs\n",
            "\n",
            "Epoch 13 Batch 0 Loss 3.2297 Accuracy 0.1129\n",
            "Epoch 13 Batch 50 Loss 3.1936 Accuracy 0.1144\n",
            "Epoch 13 Batch 100 Loss 3.1893 Accuracy 0.1155\n",
            "Epoch 13 Batch 150 Loss 3.1765 Accuracy 0.1161\n",
            "Validation acc: 0.1183  Validation loss: 3.2794\n",
            "Epoch 13 Loss 3.1729 Accuracy 0.1162\n",
            "Time taken for 1 epoch: 58.27750039100647 secs\n",
            "\n",
            "Epoch 14 Batch 0 Loss 2.9365 Accuracy 0.1331\n",
            "Epoch 14 Batch 50 Loss 2.9730 Accuracy 0.1253\n",
            "Epoch 14 Batch 100 Loss 2.9638 Accuracy 0.1253\n",
            "Epoch 14 Batch 150 Loss 2.9526 Accuracy 0.1264\n",
            "Validation acc: 0.1254  Validation loss: 3.1221\n",
            "Epoch 14 Loss 2.9502 Accuracy 0.1265\n",
            "Time taken for 1 epoch: 58.316956520080566 secs\n",
            "\n",
            "Epoch 15 Batch 0 Loss 2.7599 Accuracy 0.1434\n",
            "Epoch 15 Batch 50 Loss 2.7393 Accuracy 0.1373\n",
            "Epoch 15 Batch 100 Loss 2.7418 Accuracy 0.1366\n",
            "Epoch 15 Batch 150 Loss 2.7409 Accuracy 0.1369\n",
            "Validation acc: 0.1350  Validation loss: 2.9679\n",
            "Saving checkpoint for epoch 15 at /checkpoints/train/ckpt-3\n",
            "Epoch 15 Loss 2.7373 Accuracy 0.1371\n",
            "Time taken for 1 epoch: 58.520678758621216 secs\n",
            "\n",
            "Epoch 16 Batch 0 Loss 2.5061 Accuracy 0.1392\n",
            "Epoch 16 Batch 50 Loss 2.5381 Accuracy 0.1465\n",
            "Epoch 16 Batch 100 Loss 2.5430 Accuracy 0.1460\n",
            "Epoch 16 Batch 150 Loss 2.5485 Accuracy 0.1459\n",
            "Validation acc: 0.1391  Validation loss: 2.8767\n",
            "Epoch 16 Loss 2.5483 Accuracy 0.1459\n",
            "Time taken for 1 epoch: 58.501941442489624 secs\n",
            "\n",
            "Epoch 17 Batch 0 Loss 2.3326 Accuracy 0.1517\n",
            "Epoch 17 Batch 50 Loss 2.3708 Accuracy 0.1551\n",
            "Epoch 17 Batch 100 Loss 2.3824 Accuracy 0.1546\n",
            "Epoch 17 Batch 150 Loss 2.3826 Accuracy 0.1541\n",
            "Validation acc: 0.1452  Validation loss: 2.7908\n",
            "Epoch 17 Loss 2.3822 Accuracy 0.1543\n",
            "Time taken for 1 epoch: 58.31282305717468 secs\n",
            "\n",
            "Epoch 18 Batch 0 Loss 2.1272 Accuracy 0.1638\n",
            "Epoch 18 Batch 50 Loss 2.2020 Accuracy 0.1627\n",
            "Epoch 18 Batch 100 Loss 2.2254 Accuracy 0.1619\n",
            "Epoch 18 Batch 150 Loss 2.2381 Accuracy 0.1609\n",
            "Validation acc: 0.1477  Validation loss: 2.7392\n",
            "Epoch 18 Loss 2.2389 Accuracy 0.1610\n",
            "Time taken for 1 epoch: 58.29026484489441 secs\n",
            "\n",
            "Epoch 19 Batch 0 Loss 2.0484 Accuracy 0.1690\n",
            "Epoch 19 Batch 50 Loss 2.0661 Accuracy 0.1700\n",
            "Epoch 19 Batch 100 Loss 2.0904 Accuracy 0.1685\n",
            "Epoch 19 Batch 150 Loss 2.1059 Accuracy 0.1677\n",
            "Validation acc: 0.1482  Validation loss: 2.7323\n",
            "Epoch 19 Loss 2.1082 Accuracy 0.1677\n",
            "Time taken for 1 epoch: 58.54028058052063 secs\n",
            "\n",
            "Epoch 20 Batch 0 Loss 1.9358 Accuracy 0.1861\n",
            "Epoch 20 Batch 50 Loss 1.9558 Accuracy 0.1758\n",
            "Epoch 20 Batch 100 Loss 1.9827 Accuracy 0.1747\n",
            "Epoch 20 Batch 150 Loss 1.9972 Accuracy 0.1733\n",
            "Validation acc: 0.1502  Validation loss: 2.7378\n",
            "Saving checkpoint for epoch 20 at /checkpoints/train/ckpt-4\n",
            "Epoch 20 Loss 1.9990 Accuracy 0.1730\n",
            "Time taken for 1 epoch: 58.6875855922699 secs\n",
            "\n",
            "Epoch 21 Batch 0 Loss 1.9347 Accuracy 0.1752\n",
            "Epoch 21 Batch 50 Loss 1.8397 Accuracy 0.1813\n",
            "Epoch 21 Batch 100 Loss 1.8678 Accuracy 0.1804\n",
            "Epoch 21 Batch 150 Loss 1.8906 Accuracy 0.1786\n",
            "Validation acc: 0.1565  Validation loss: 2.6413\n",
            "Epoch 21 Loss 1.8945 Accuracy 0.1785\n",
            "Time taken for 1 epoch: 59.19556498527527 secs\n",
            "\n",
            "Epoch 22 Batch 0 Loss 1.8529 Accuracy 0.1826\n",
            "Epoch 22 Batch 50 Loss 1.7537 Accuracy 0.1877\n",
            "Epoch 22 Batch 100 Loss 1.7730 Accuracy 0.1856\n",
            "Epoch 22 Batch 150 Loss 1.7978 Accuracy 0.1843\n",
            "Validation acc: 0.1563  Validation loss: 2.6365\n",
            "Epoch 22 Loss 1.7995 Accuracy 0.1840\n",
            "Time taken for 1 epoch: 58.57461190223694 secs\n",
            "\n",
            "Epoch 23 Batch 0 Loss 1.6216 Accuracy 0.1813\n",
            "Epoch 23 Batch 50 Loss 1.6645 Accuracy 0.1903\n",
            "Epoch 23 Batch 100 Loss 1.6949 Accuracy 0.1895\n",
            "Epoch 23 Batch 150 Loss 1.7185 Accuracy 0.1883\n",
            "Validation acc: 0.1573  Validation loss: 2.6418\n",
            "Epoch 23 Loss 1.7237 Accuracy 0.1879\n",
            "Time taken for 1 epoch: 58.571181297302246 secs\n",
            "\n",
            "Epoch 24 Batch 0 Loss 1.4599 Accuracy 0.1968\n",
            "Epoch 24 Batch 50 Loss 1.5817 Accuracy 0.1960\n",
            "Epoch 24 Batch 100 Loss 1.6186 Accuracy 0.1936\n",
            "Epoch 24 Batch 150 Loss 1.6449 Accuracy 0.1919\n",
            "Validation acc: 0.1586  Validation loss: 2.6353\n",
            "Epoch 24 Loss 1.6513 Accuracy 0.1919\n",
            "Time taken for 1 epoch: 58.22802686691284 secs\n",
            "\n",
            "Epoch 25 Batch 0 Loss 1.4627 Accuracy 0.1897\n",
            "Epoch 25 Batch 50 Loss 1.5118 Accuracy 0.1998\n",
            "Epoch 25 Batch 100 Loss 1.5530 Accuracy 0.1973\n",
            "Epoch 25 Batch 150 Loss 1.5806 Accuracy 0.1959\n",
            "Validation acc: 0.1597  Validation loss: 2.6108\n",
            "Saving checkpoint for epoch 25 at /checkpoints/train/ckpt-5\n",
            "Epoch 25 Loss 1.5866 Accuracy 0.1954\n",
            "Time taken for 1 epoch: 58.69262385368347 secs\n",
            "\n",
            "Epoch 26 Batch 0 Loss 1.3887 Accuracy 0.2034\n",
            "Epoch 26 Batch 50 Loss 1.4580 Accuracy 0.2025\n",
            "Epoch 26 Batch 100 Loss 1.4925 Accuracy 0.2012\n",
            "Epoch 26 Batch 150 Loss 1.5138 Accuracy 0.1997\n",
            "Validation acc: 0.1602  Validation loss: 2.6246\n",
            "Epoch 26 Loss 1.5171 Accuracy 0.1995\n",
            "Time taken for 1 epoch: 58.6577467918396 secs\n",
            "\n",
            "Epoch 27 Batch 0 Loss 1.2796 Accuracy 0.2155\n",
            "Epoch 27 Batch 50 Loss 1.3630 Accuracy 0.2080\n",
            "Epoch 27 Batch 100 Loss 1.4059 Accuracy 0.2060\n",
            "Epoch 27 Batch 150 Loss 1.4361 Accuracy 0.2043\n",
            "Validation acc: 0.1621  Validation loss: 2.6354\n",
            "Epoch 27 Loss 1.4416 Accuracy 0.2042\n",
            "Time taken for 1 epoch: 58.98174810409546 secs\n",
            "\n",
            "Epoch 28 Batch 0 Loss 1.3566 Accuracy 0.2155\n",
            "Epoch 28 Batch 50 Loss 1.3131 Accuracy 0.2125\n",
            "Epoch 28 Batch 100 Loss 1.3384 Accuracy 0.2108\n",
            "Epoch 28 Batch 150 Loss 1.3636 Accuracy 0.2095\n",
            "Validation acc: 0.1633  Validation loss: 2.6265\n",
            "Epoch 28 Loss 1.3694 Accuracy 0.2090\n",
            "Time taken for 1 epoch: 58.459275245666504 secs\n",
            "\n",
            "Epoch 29 Batch 0 Loss 1.1699 Accuracy 0.2276\n",
            "Epoch 29 Batch 50 Loss 1.2336 Accuracy 0.2168\n",
            "Epoch 29 Batch 100 Loss 1.2695 Accuracy 0.2149\n",
            "Epoch 29 Batch 150 Loss 1.2954 Accuracy 0.2136\n",
            "Validation acc: 0.1619  Validation loss: 2.7018\n",
            "Epoch 29 Loss 1.3003 Accuracy 0.2132\n",
            "Time taken for 1 epoch: 58.41032409667969 secs\n",
            "\n",
            "Epoch 30 Batch 0 Loss 1.2917 Accuracy 0.2111\n",
            "Epoch 30 Batch 50 Loss 1.1849 Accuracy 0.2212\n",
            "Epoch 30 Batch 100 Loss 1.2118 Accuracy 0.2196\n",
            "Epoch 30 Batch 150 Loss 1.2382 Accuracy 0.2172\n",
            "Validation acc: 0.1642  Validation loss: 2.6652\n",
            "Saving checkpoint for epoch 30 at /checkpoints/train/ckpt-6\n",
            "Epoch 30 Loss 1.2409 Accuracy 0.2168\n",
            "Time taken for 1 epoch: 58.820518016815186 secs\n",
            "\n",
            "Epoch 31 Batch 0 Loss 1.1718 Accuracy 0.2318\n",
            "Epoch 31 Batch 50 Loss 1.1281 Accuracy 0.2253\n",
            "Epoch 31 Batch 100 Loss 1.1581 Accuracy 0.2231\n",
            "Epoch 31 Batch 150 Loss 1.1783 Accuracy 0.2209\n",
            "Validation acc: 0.1652  Validation loss: 2.6772\n",
            "Epoch 31 Loss 1.1835 Accuracy 0.2208\n",
            "Time taken for 1 epoch: 58.75838112831116 secs\n",
            "\n",
            "Epoch 32 Batch 0 Loss 1.1042 Accuracy 0.2329\n",
            "Epoch 32 Batch 50 Loss 1.0779 Accuracy 0.2296\n",
            "Epoch 32 Batch 100 Loss 1.1039 Accuracy 0.2265\n",
            "Epoch 32 Batch 150 Loss 1.1335 Accuracy 0.2245\n",
            "Validation acc: 0.1654  Validation loss: 2.7007\n",
            "Epoch 32 Loss 1.1351 Accuracy 0.2240\n",
            "Time taken for 1 epoch: 58.998385429382324 secs\n",
            "\n",
            "Epoch 33 Batch 0 Loss 1.0215 Accuracy 0.2361\n",
            "Epoch 33 Batch 50 Loss 1.0226 Accuracy 0.2326\n",
            "Epoch 33 Batch 100 Loss 1.0492 Accuracy 0.2306\n",
            "Epoch 33 Batch 150 Loss 1.0799 Accuracy 0.2280\n",
            "Validation acc: 0.1665  Validation loss: 2.7068\n",
            "Epoch 33 Loss 1.0865 Accuracy 0.2275\n",
            "Time taken for 1 epoch: 58.85472631454468 secs\n",
            "\n",
            "Epoch 34 Batch 0 Loss 0.9043 Accuracy 0.2411\n",
            "Epoch 34 Batch 50 Loss 0.9812 Accuracy 0.2336\n",
            "Epoch 34 Batch 100 Loss 1.0070 Accuracy 0.2317\n",
            "Epoch 34 Batch 150 Loss 1.0391 Accuracy 0.2306\n",
            "Validation acc: 0.1663  Validation loss: 2.7389\n",
            "Epoch 34 Loss 1.0421 Accuracy 0.2304\n",
            "Time taken for 1 epoch: 58.80725431442261 secs\n",
            "\n",
            "Epoch 35 Batch 0 Loss 0.8770 Accuracy 0.2309\n",
            "Epoch 35 Batch 50 Loss 0.9306 Accuracy 0.2386\n",
            "Epoch 35 Batch 100 Loss 0.9678 Accuracy 0.2363\n",
            "Epoch 35 Batch 150 Loss 0.9958 Accuracy 0.2338\n",
            "Validation acc: 0.1668  Validation loss: 2.7491\n",
            "Saving checkpoint for epoch 35 at /checkpoints/train/ckpt-7\n",
            "Epoch 35 Loss 1.0002 Accuracy 0.2334\n",
            "Time taken for 1 epoch: 59.10390043258667 secs\n",
            "\n",
            "Epoch 36 Batch 0 Loss 0.8886 Accuracy 0.2439\n",
            "Epoch 36 Batch 50 Loss 0.9030 Accuracy 0.2406\n",
            "Epoch 36 Batch 100 Loss 0.9291 Accuracy 0.2387\n",
            "Epoch 36 Batch 150 Loss 0.9586 Accuracy 0.2362\n",
            "Validation acc: 0.1678  Validation loss: 2.7753\n",
            "Epoch 36 Loss 0.9621 Accuracy 0.2362\n",
            "Time taken for 1 epoch: 58.80644464492798 secs\n",
            "\n",
            "Epoch 37 Batch 0 Loss 0.8311 Accuracy 0.2657\n",
            "Epoch 37 Batch 50 Loss 0.8640 Accuracy 0.2435\n",
            "Epoch 37 Batch 100 Loss 0.9004 Accuracy 0.2404\n",
            "Epoch 37 Batch 150 Loss 0.9241 Accuracy 0.2386\n",
            "Validation acc: 0.1658  Validation loss: 2.8313\n",
            "Epoch 37 Loss 0.9284 Accuracy 0.2384\n",
            "Time taken for 1 epoch: 58.86026167869568 secs\n",
            "\n",
            "Epoch 38 Batch 0 Loss 0.8465 Accuracy 0.2317\n",
            "Epoch 38 Batch 50 Loss 0.8534 Accuracy 0.2451\n",
            "Epoch 38 Batch 100 Loss 0.8717 Accuracy 0.2433\n",
            "Epoch 38 Batch 150 Loss 0.8913 Accuracy 0.2413\n",
            "Validation acc: 0.1677  Validation loss: 2.8209\n",
            "Epoch 38 Loss 0.8947 Accuracy 0.2409\n",
            "Time taken for 1 epoch: 58.65456771850586 secs\n",
            "\n",
            "Epoch 39 Batch 0 Loss 0.7530 Accuracy 0.2541\n",
            "Epoch 39 Batch 50 Loss 0.8071 Accuracy 0.2471\n",
            "Epoch 39 Batch 100 Loss 0.8362 Accuracy 0.2443\n",
            "Epoch 39 Batch 150 Loss 0.8547 Accuracy 0.2439\n",
            "Validation acc: 0.1673  Validation loss: 2.8498\n",
            "Epoch 39 Loss 0.8608 Accuracy 0.2434\n",
            "Time taken for 1 epoch: 58.48280930519104 secs\n",
            "\n",
            "Epoch 40 Batch 0 Loss 0.8007 Accuracy 0.2545\n",
            "Epoch 40 Batch 50 Loss 0.7871 Accuracy 0.2500\n",
            "Epoch 40 Batch 100 Loss 0.8115 Accuracy 0.2483\n",
            "Epoch 40 Batch 150 Loss 0.8305 Accuracy 0.2457\n",
            "Validation acc: 0.1674  Validation loss: 2.8846\n",
            "Saving checkpoint for epoch 40 at /checkpoints/train/ckpt-8\n",
            "Epoch 40 Loss 0.8331 Accuracy 0.2453\n",
            "Time taken for 1 epoch: 58.74788165092468 secs\n",
            "\n",
            "Epoch 41 Batch 0 Loss 0.7398 Accuracy 0.2537\n",
            "Epoch 41 Batch 50 Loss 0.7437 Accuracy 0.2540\n",
            "Epoch 41 Batch 100 Loss 0.7774 Accuracy 0.2502\n",
            "Epoch 41 Batch 150 Loss 0.7998 Accuracy 0.2479\n",
            "Validation acc: 0.1687  Validation loss: 2.8920\n",
            "Epoch 41 Loss 0.8046 Accuracy 0.2475\n",
            "Time taken for 1 epoch: 58.511672496795654 secs\n",
            "\n",
            "Epoch 42 Batch 0 Loss 0.6922 Accuracy 0.2617\n",
            "Epoch 42 Batch 50 Loss 0.7220 Accuracy 0.2540\n",
            "Epoch 42 Batch 100 Loss 0.7493 Accuracy 0.2510\n",
            "Epoch 42 Batch 150 Loss 0.7737 Accuracy 0.2500\n",
            "Validation acc: 0.1687  Validation loss: 2.9306\n",
            "Epoch 42 Loss 0.7781 Accuracy 0.2495\n",
            "Time taken for 1 epoch: 58.3956835269928 secs\n",
            "\n",
            "Epoch 43 Batch 0 Loss 0.6203 Accuracy 0.2493\n",
            "Epoch 43 Batch 50 Loss 0.7073 Accuracy 0.2579\n",
            "Epoch 43 Batch 100 Loss 0.7335 Accuracy 0.2528\n",
            "Epoch 43 Batch 150 Loss 0.7531 Accuracy 0.2515\n",
            "Validation acc: 0.1686  Validation loss: 2.9541\n",
            "Epoch 43 Loss 0.7555 Accuracy 0.2510\n",
            "Time taken for 1 epoch: 58.57630705833435 secs\n",
            "\n",
            "Epoch 44 Batch 0 Loss 0.7465 Accuracy 0.2801\n",
            "Epoch 44 Batch 50 Loss 0.6886 Accuracy 0.2570\n",
            "Epoch 44 Batch 100 Loss 0.7081 Accuracy 0.2546\n",
            "Epoch 44 Batch 150 Loss 0.7276 Accuracy 0.2534\n",
            "Validation acc: 0.1674  Validation loss: 2.9735\n",
            "Epoch 44 Loss 0.7312 Accuracy 0.2531\n",
            "Time taken for 1 epoch: 58.57700157165527 secs\n",
            "\n",
            "Epoch 45 Batch 0 Loss 0.6886 Accuracy 0.2584\n",
            "Epoch 45 Batch 50 Loss 0.6618 Accuracy 0.2601\n",
            "Epoch 45 Batch 100 Loss 0.6821 Accuracy 0.2568\n",
            "Epoch 45 Batch 150 Loss 0.7056 Accuracy 0.2551\n",
            "Validation acc: 0.1685  Validation loss: 2.9910\n",
            "Saving checkpoint for epoch 45 at /checkpoints/train/ckpt-9\n",
            "Epoch 45 Loss 0.7088 Accuracy 0.2550\n",
            "Time taken for 1 epoch: 58.66563105583191 secs\n",
            "\n",
            "Epoch 46 Batch 0 Loss 0.6341 Accuracy 0.2520\n",
            "Epoch 46 Batch 50 Loss 0.6477 Accuracy 0.2608\n",
            "Epoch 46 Batch 100 Loss 0.6691 Accuracy 0.2586\n",
            "Epoch 46 Batch 150 Loss 0.6857 Accuracy 0.2565\n",
            "Validation acc: 0.1691  Validation loss: 3.0277\n",
            "Epoch 46 Loss 0.6886 Accuracy 0.2563\n",
            "Time taken for 1 epoch: 58.44868230819702 secs\n",
            "\n",
            "Epoch 47 Batch 0 Loss 0.5966 Accuracy 0.2618\n",
            "Epoch 47 Batch 50 Loss 0.6146 Accuracy 0.2643\n",
            "Epoch 47 Batch 100 Loss 0.6416 Accuracy 0.2605\n",
            "Epoch 47 Batch 150 Loss 0.6622 Accuracy 0.2586\n",
            "Validation acc: 0.1686  Validation loss: 3.0486\n",
            "Epoch 47 Loss 0.6663 Accuracy 0.2583\n",
            "Time taken for 1 epoch: 58.408215284347534 secs\n",
            "\n",
            "Epoch 48 Batch 0 Loss 0.5902 Accuracy 0.2698\n",
            "Epoch 48 Batch 50 Loss 0.6052 Accuracy 0.2653\n",
            "Epoch 48 Batch 100 Loss 0.6312 Accuracy 0.2621\n",
            "Epoch 48 Batch 150 Loss 0.6487 Accuracy 0.2597\n",
            "Validation acc: 0.1688  Validation loss: 3.0498\n",
            "Epoch 48 Loss 0.6519 Accuracy 0.2593\n",
            "Time taken for 1 epoch: 58.541661977767944 secs\n",
            "\n",
            "Epoch 49 Batch 0 Loss 0.5669 Accuracy 0.2754\n",
            "Epoch 49 Batch 50 Loss 0.5887 Accuracy 0.2656\n",
            "Epoch 49 Batch 100 Loss 0.6141 Accuracy 0.2622\n",
            "Epoch 49 Batch 150 Loss 0.6324 Accuracy 0.2607\n",
            "Validation acc: 0.1683  Validation loss: 3.0902\n",
            "Epoch 49 Loss 0.6350 Accuracy 0.2606\n",
            "Time taken for 1 epoch: 58.299320459365845 secs\n",
            "\n",
            "Epoch 50 Batch 0 Loss 0.5892 Accuracy 0.2738\n",
            "Epoch 50 Batch 50 Loss 0.5711 Accuracy 0.2642\n",
            "Epoch 50 Batch 100 Loss 0.5940 Accuracy 0.2631\n",
            "Epoch 50 Batch 150 Loss 0.6150 Accuracy 0.2623\n",
            "Validation acc: 0.1694  Validation loss: 3.1034\n",
            "Saving checkpoint for epoch 50 at /checkpoints/train/ckpt-10\n",
            "Epoch 50 Loss 0.6178 Accuracy 0.2619\n",
            "Time taken for 1 epoch: 58.73217439651489 secs\n",
            "\n"
          ],
          "name": "stdout"
        }
      ]
    },
    {
      "cell_type": "code",
      "metadata": {
        "id": "R4gj3Pn7DQLm",
        "colab_type": "code",
        "colab": {}
      },
      "source": [
        "def encode(lang,sentence):\n",
        "\n",
        "  text = list(map(lambda x: lang.word_index[x], sentence.split() ))\n",
        "  return text"
      ],
      "execution_count": null,
      "outputs": []
    },
    {
      "cell_type": "code",
      "metadata": {
        "id": "olWHOzZpGgsa",
        "colab_type": "code",
        "colab": {}
      },
      "source": [
        "def decode(lang, tokens):\n",
        "\n",
        "  indexs = list(map(lambda x: lang.index_word[x], tokens ))\n",
        "\n",
        "  return \" \".join(indexs)"
      ],
      "execution_count": null,
      "outputs": []
    },
    {
      "cell_type": "code",
      "metadata": {
        "id": "5W1DjBBkIhlD",
        "colab_type": "code",
        "colab": {}
      },
      "source": [
        "MAX_LENGTH = 80"
      ],
      "execution_count": null,
      "outputs": []
    },
    {
      "cell_type": "code",
      "metadata": {
        "id": "PtQt6imG7hTi",
        "colab_type": "code",
        "colab": {}
      },
      "source": [
        "def evaluate(inp_sentence):\n",
        "  start_token = [inp_lang.word_index[\"<start>\"]]\n",
        "  end_token = [inp_lang.word_index[\"<end>\"]]\n",
        "  \n",
        "  # inp sentence is portuguese, hence adding the start and end token\n",
        "  inp_sentence = start_token + encode(inp_lang,inp_sentence) + end_token\n",
        "  encoder_input = tf.expand_dims(inp_sentence, 0)\n",
        "  \n",
        "  # as the target is english, the first word to the transformer should be the\n",
        "  # english start token.\n",
        "  decoder_input = [targ_lang.word_index[\"<start>\"]]\n",
        "  output = tf.expand_dims(decoder_input, 0)\n",
        "    \n",
        "  for i in range(MAX_LENGTH):\n",
        "    enc_padding_mask, combined_mask, dec_padding_mask = create_masks(\n",
        "        encoder_input, output)\n",
        "  \n",
        "    # predictions.shape == (batch_size, seq_len, vocab_size)\n",
        "    predictions, attention_weights = transformer([encoder_input, \n",
        "                                                 output,\n",
        "                                                 False,\n",
        "                                                 enc_padding_mask,\n",
        "                                                 combined_mask,\n",
        "                                                 dec_padding_mask])\n",
        "    \n",
        "    # select the last word from the seq_len dimension\n",
        "    predictions = predictions[: ,-1:, :]  # (batch_size, 1, vocab_size)\n",
        "\n",
        "    predicted_id = tf.cast(tf.argmax(predictions, axis=-1), tf.int32)\n",
        "    \n",
        "    # return the result if the predicted_id is equal to the end token\n",
        "    if predicted_id == inp_lang.word_index[\"<end>\"]:\n",
        "      return tf.squeeze(output, axis=0), attention_weights\n",
        "    \n",
        "    # concatentate the predicted_id to the output which is given to the decoder\n",
        "    # as its input.\n",
        "    output = tf.concat([output, predicted_id], axis=-1)\n",
        "\n",
        "  return tf.squeeze(output, axis=0), attention_weights\n"
      ],
      "execution_count": null,
      "outputs": []
    },
    {
      "cell_type": "code",
      "metadata": {
        "id": "WocqPs4VGJkt",
        "colab_type": "code",
        "colab": {}
      },
      "source": [
        "def plot_attention_weights(attention, sentence, result, layer):\n",
        "  fig = plt.figure(figsize=(16, 8))\n",
        "  \n",
        "  sentence = encode(inp_lang,sentence)\n",
        "  \n",
        "  attention = tf.squeeze(attention[layer], axis=0)\n",
        "  \n",
        "  for head in range(attention.shape[0]):\n",
        "    ax = fig.add_subplot(2, 4, head+1)\n",
        "    \n",
        "    # plot the attention weights\n",
        "    ax.matshow(attention[head][:-1, :], cmap='viridis')\n",
        "\n",
        "    fontdict = {'fontsize': 10}\n",
        "    \n",
        "    ax.set_xticks(range(len(sentence)+2))\n",
        "    ax.set_yticks(range(len(result)))\n",
        "    \n",
        "    ax.set_ylim(len(result)-1.5, -0.5)\n",
        "        \n",
        "    ax.set_xticklabels(\n",
        "        ['<start>']+[decode(inp_lang,[i]) for i in sentence]+['<end>'], \n",
        "        fontdict=fontdict, rotation=90)\n",
        "    \n",
        "    ax.set_yticklabels([decode(targ_lang,[i]) for i in result.numpy() if i != targ_lang.word_index[\"<end>\"] ], \n",
        "                       fontdict=fontdict)\n",
        "    \n",
        "    ax.set_xlabel('Head {}'.format(head+1))\n",
        "  \n",
        "  plt.tight_layout()\n",
        "  plt.show()\n"
      ],
      "execution_count": null,
      "outputs": []
    },
    {
      "cell_type": "code",
      "metadata": {
        "id": "ijsmfrHPHu8l",
        "colab_type": "code",
        "colab": {}
      },
      "source": [
        "def translate(sentence, plot=''):\n",
        "  result, attention_weights = evaluate(sentence)\n",
        "  \n",
        "  # print(result)\n",
        "  predicted_sentence = decode(targ_lang,[i for i in result.numpy() if i != targ_lang.word_index[\"<end>\"]])  \n",
        "\n",
        "  print('Input: {}'.format(sentence))\n",
        "  print('Predicted translation: {}'.format(predicted_sentence))\n",
        "  \n",
        "  if plot:\n",
        "    plot_attention_weights(attention_weights, sentence, result, plot)\n"
      ],
      "execution_count": null,
      "outputs": []
    },
    {
      "cell_type": "code",
      "metadata": {
        "id": "lXX-vetq4pfP",
        "colab_type": "code",
        "colab": {}
      },
      "source": [
        "MAX_LENGTH = 3"
      ],
      "execution_count": null,
      "outputs": []
    },
    {
      "cell_type": "code",
      "metadata": {
        "id": "E3ofkMCFINpz",
        "colab_type": "code",
        "colab": {
          "base_uri": "https://localhost:8080/",
          "height": 52
        },
        "outputId": "ed6321f3-97df-4c95-bab0-08e44d670ce1"
      },
      "source": [
        "translate(\"jesus is lord\")"
      ],
      "execution_count": null,
      "outputs": [
        {
          "output_type": "stream",
          "text": [
            "Input: jesus is lord\n",
            "Predicted translation: <start> jésù ni olúwa\n"
          ],
          "name": "stdout"
        }
      ]
    },
    {
      "cell_type": "markdown",
      "metadata": {
        "id": "ni5UdA8kPSa9",
        "colab_type": "text"
      },
      "source": [
        "## save weight"
      ]
    },
    {
      "cell_type": "code",
      "metadata": {
        "id": "bO3bYxLL1tQC",
        "colab_type": "code",
        "colab": {
          "base_uri": "https://localhost:8080/",
          "height": 106
        },
        "outputId": "c7264322-16d2-48eb-fd85-a7386dbc8bb8"
      },
      "source": [
        "transformer.save(\"saved_model/my_model\")"
      ],
      "execution_count": null,
      "outputs": [
        {
          "output_type": "stream",
          "text": [
            "WARNING:tensorflow:From /usr/local/lib/python3.6/dist-packages/tensorflow/python/ops/resource_variable_ops.py:1817: calling BaseResourceVariable.__init__ (from tensorflow.python.ops.resource_variable_ops) with constraint is deprecated and will be removed in a future version.\n",
            "Instructions for updating:\n",
            "If using Keras pass *_constraint arguments to layers.\n",
            "INFO:tensorflow:Assets written to: saved_model/my_model/assets\n"
          ],
          "name": "stdout"
        }
      ]
    },
    {
      "cell_type": "markdown",
      "metadata": {
        "id": "PvbU0G2cl5Qu",
        "colab_type": "text"
      },
      "source": [
        "save word2index and index2word"
      ]
    },
    {
      "cell_type": "code",
      "metadata": {
        "id": "YbCMAkA-RVYG",
        "colab_type": "code",
        "colab": {}
      },
      "source": [
        "tokenizer_json = targ_lang.to_json()\n",
        "with io.open('targ_lang.json', 'w', encoding='utf-8') as f:\n",
        "    f.write(json.dumps(tokenizer_json, ensure_ascii=False))"
      ],
      "execution_count": null,
      "outputs": []
    },
    {
      "cell_type": "code",
      "metadata": {
        "id": "ytbjBo9C83Kz",
        "colab_type": "code",
        "colab": {}
      },
      "source": [
        ""
      ],
      "execution_count": null,
      "outputs": []
    },
    {
      "cell_type": "markdown",
      "metadata": {
        "id": "eQYTg0d3nRX_",
        "colab_type": "text"
      },
      "source": [
        "## Inference Mode"
      ]
    },
    {
      "cell_type": "code",
      "metadata": {
        "id": "g-8QUJ_QK3fE",
        "colab_type": "code",
        "colab": {}
      },
      "source": [
        "transformer.save_weights('checkpoints/my_checkpoint')"
      ],
      "execution_count": null,
      "outputs": []
    },
    {
      "cell_type": "code",
      "metadata": {
        "id": "gwXJ9NIkPhk2",
        "colab_type": "code",
        "colab": {}
      },
      "source": [
        "model = Transformer(num_layers, d_model, num_heads, dff,\n",
        "                          input_vocab_size, target_vocab_size, \n",
        "                          pe_input=input_vocab_size, \n",
        "                          pe_target=target_vocab_size,\n",
        "                          rate=dropout_rate)"
      ],
      "execution_count": null,
      "outputs": []
    },
    {
      "cell_type": "code",
      "metadata": {
        "id": "ex--BcoCPt-I",
        "colab_type": "code",
        "colab": {}
      },
      "source": [
        "model.load_weights('checkpoints/my_checkpoint')"
      ],
      "execution_count": null,
      "outputs": []
    },
    {
      "cell_type": "code",
      "metadata": {
        "id": "8FBy_x7eTl3T",
        "colab_type": "code",
        "colab": {}
      },
      "source": [
        "import io \n",
        "import json"
      ],
      "execution_count": null,
      "outputs": []
    },
    {
      "cell_type": "markdown",
      "metadata": {
        "id": "nmVeOpsJnMV-",
        "colab_type": "text"
      },
      "source": [
        "## Load vocab from file"
      ]
    },
    {
      "cell_type": "code",
      "metadata": {
        "id": "RVrPPRgEUELY",
        "colab_type": "code",
        "colab": {}
      },
      "source": [
        "tokenizer_from_json = tf.keras.preprocessing.text.tokenizer_from_json"
      ],
      "execution_count": null,
      "outputs": []
    },
    {
      "cell_type": "code",
      "metadata": {
        "id": "OlMllN6uTtoc",
        "colab_type": "code",
        "colab": {}
      },
      "source": [
        "with open('targ_lang.json') as f:\n",
        "    data = json.load(f)\n",
        "    targ_lang = tokenizer_from_json(data)"
      ],
      "execution_count": null,
      "outputs": []
    },
    {
      "cell_type": "code",
      "metadata": {
        "id": "z8o1D7FsJ1Z0",
        "colab_type": "code",
        "colab": {}
      },
      "source": [
        "with open('inp_lang.json') as f:\n",
        "    data = json.load(f)\n",
        "    inp_lang = tokenizer_from_json(data)"
      ],
      "execution_count": null,
      "outputs": []
    },
    {
      "cell_type": "code",
      "metadata": {
        "id": "zxe2y45lUtmZ",
        "colab_type": "code",
        "colab": {}
      },
      "source": [
        "num_layers = 4\n",
        "d_model = 128\n",
        "dff = 512\n",
        "num_heads = 8\n",
        "\n",
        "input_vocab_size = len(inp_lang.word_index) + 2\n",
        "target_vocab_size = len(targ_lang.word_index) + 2\n",
        "dropout_rate = 0.1"
      ],
      "execution_count": null,
      "outputs": []
    },
    {
      "cell_type": "code",
      "metadata": {
        "id": "LVTPPO93JaAO",
        "colab_type": "code",
        "colab": {}
      },
      "source": [
        "transformer = Transformer(num_layers, d_model, num_heads, dff,\n",
        "                          input_vocab_size, target_vocab_size, \n",
        "                          pe_input=input_vocab_size, \n",
        "                          pe_target=target_vocab_size,\n",
        "                          rate=dropout_rate)"
      ],
      "execution_count": null,
      "outputs": []
    },
    {
      "cell_type": "code",
      "metadata": {
        "id": "23tj_2m7KHwN",
        "colab_type": "code",
        "colab": {
          "base_uri": "https://localhost:8080/",
          "height": 34
        },
        "outputId": "715c2b73-8472-4405-caef-0408d9dd0f64"
      },
      "source": [
        "transformer.load_weights('checkpoints/my_checkpoint')"
      ],
      "execution_count": null,
      "outputs": [
        {
          "output_type": "execute_result",
          "data": {
            "text/plain": [
              "<tensorflow.python.training.tracking.util.CheckpointLoadStatus at 0x7f7bc1c46588>"
            ]
          },
          "metadata": {
            "tags": []
          },
          "execution_count": 63
        }
      ]
    },
    {
      "cell_type": "code",
      "metadata": {
        "id": "Mjd4l5SaKcjs",
        "colab_type": "code",
        "colab": {}
      },
      "source": [
        "MAX_LENGTH = 5"
      ],
      "execution_count": null,
      "outputs": []
    },
    {
      "cell_type": "code",
      "metadata": {
        "id": "V5pWtxzvKMxr",
        "colab_type": "code",
        "colab": {
          "base_uri": "https://localhost:8080/",
          "height": 52
        },
        "outputId": "7127d616-299e-4210-cd4c-a19c93895044"
      },
      "source": [
        "translate(\"jesus is lord\")"
      ],
      "execution_count": null,
      "outputs": [
        {
          "output_type": "stream",
          "text": [
            "Input: jesus is lord\n",
            "Predicted translation: <start> jésù ni olúwa\n"
          ],
          "name": "stdout"
        }
      ]
    },
    {
      "cell_type": "code",
      "metadata": {
        "id": "yRNtSOMGecC-",
        "colab_type": "code",
        "colab": {}
      },
      "source": [
        ""
      ],
      "execution_count": null,
      "outputs": []
    }
  ]
}